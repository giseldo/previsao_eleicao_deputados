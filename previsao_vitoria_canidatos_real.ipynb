{
  "cells": [
    {
      "cell_type": "markdown",
      "metadata": {
        "id": "view-in-github",
        "colab_type": "text"
      },
      "source": [
        "<a href=\"https://colab.research.google.com/github/giseldo/previsao_eleicao_deputados/blob/main/previsao_vitoria_canidatos_real.ipynb\" target=\"_parent\"><img src=\"https://colab.research.google.com/assets/colab-badge.svg\" alt=\"Open In Colab\"/></a>"
      ]
    },
    {
      "cell_type": "markdown",
      "metadata": {
        "id": "ITHsU-p2xgfS"
      },
      "source": [
        "# Aluno Giseldo da Silva\n",
        "\n",
        "Fonte: https://medium.com/data-hackers/engenharia-de-features-transformando-dados-categ%C3%B3ricos-em-dados-num%C3%A9ricos-e5d3991df715"
      ]
    },
    {
      "cell_type": "code",
      "source": [
        "from google.colab import drive\n",
        "drive.mount('/content/drive')"
      ],
      "metadata": {
        "id": "MIcTad-kxiHr",
        "colab": {
          "base_uri": "https://localhost:8080/"
        },
        "outputId": "c6ec2d0e-e708-404b-f889-c882ae7d1edf"
      },
      "execution_count": 1,
      "outputs": [
        {
          "output_type": "stream",
          "name": "stdout",
          "text": [
            "Drive already mounted at /content/drive; to attempt to forcibly remount, call drive.mount(\"/content/drive\", force_remount=True).\n"
          ]
        }
      ]
    },
    {
      "cell_type": "code",
      "execution_count": 2,
      "metadata": {
        "id": "39ZC5HGFxgfV"
      },
      "outputs": [],
      "source": [
        "import pandas as pd\n",
        "import numpy as np\n",
        "import matplotlib.pyplot as plt\n",
        "import seaborn as sns\n",
        "from scipy.stats import skew\n",
        "import sklearn.metrics\n",
        "\n",
        "from sklearn.preprocessing import LabelEncoder\n",
        "\n",
        "from sklearn import svm\n",
        "from sklearn import tree\n",
        "\n",
        "from sklearn.linear_model import LogisticRegression \n",
        "from sklearn.model_selection import cross_val_score, cross_validate\n",
        "from sklearn.model_selection import train_test_split\n",
        "from sklearn.ensemble import RandomForestClassifier\n",
        "from sklearn.ensemble import GradientBoostingClassifier\n",
        "from sklearn.ensemble import AdaBoostClassifier\n",
        "\n",
        "from sklearn.metrics import precision_recall_fscore_support\n",
        "from sklearn.metrics import matthews_corrcoef, make_scorer, f1_score, accuracy_score\n",
        "from sklearn.metrics import classification_report\n",
        "from sklearn.metrics import f1_score\n",
        "from sklearn.metrics import roc_auc_score\n",
        "from sklearn.metrics import recall_score\n",
        "from sklearn.metrics import precision_score\n",
        "from sklearn.metrics import roc_curve\n",
        "\n",
        "from sklearn.model_selection import cross_validate\n",
        "from sklearn.model_selection import KFold\n",
        "from sklearn.model_selection import GridSearchCV\n",
        "\n",
        "from imblearn.under_sampling import RandomUnderSampler\n",
        "\n",
        "import matplotlib.pyplot as plt"
      ]
    },
    {
      "cell_type": "markdown",
      "metadata": {
        "id": "GzTb1frtxgfX"
      },
      "source": [
        "# Pré-processamento\n",
        "\n",
        " - Carregando os dados\n",
        " - Tratamento dos dados com dummy nas variáveis categóricas"
      ]
    },
    {
      "cell_type": "code",
      "execution_count": 40,
      "metadata": {
        "id": "SX4rzwdExgfX",
        "colab": {
          "base_uri": "https://localhost:8080/",
          "height": 424
        },
        "outputId": "be29c971-9544-4473-efc4-e50c0985bb85"
      },
      "outputs": [
        {
          "output_type": "execute_result",
          "data": {
            "text/plain": [
              "        situacao\n",
              "0     nao_eleito\n",
              "1     nao_eleito\n",
              "2         eleito\n",
              "3     nao_eleito\n",
              "4         eleito\n",
              "...          ...\n",
              "7617  nao_eleito\n",
              "7618  nao_eleito\n",
              "7619  nao_eleito\n",
              "7620  nao_eleito\n",
              "7621  nao_eleito\n",
              "\n",
              "[7622 rows x 1 columns]"
            ],
            "text/html": [
              "\n",
              "  <div id=\"df-d5321ae3-d67a-44c0-87fa-5f1e26687876\">\n",
              "    <div class=\"colab-df-container\">\n",
              "      <div>\n",
              "<style scoped>\n",
              "    .dataframe tbody tr th:only-of-type {\n",
              "        vertical-align: middle;\n",
              "    }\n",
              "\n",
              "    .dataframe tbody tr th {\n",
              "        vertical-align: top;\n",
              "    }\n",
              "\n",
              "    .dataframe thead th {\n",
              "        text-align: right;\n",
              "    }\n",
              "</style>\n",
              "<table border=\"1\" class=\"dataframe\">\n",
              "  <thead>\n",
              "    <tr style=\"text-align: right;\">\n",
              "      <th></th>\n",
              "      <th>situacao</th>\n",
              "    </tr>\n",
              "  </thead>\n",
              "  <tbody>\n",
              "    <tr>\n",
              "      <th>0</th>\n",
              "      <td>nao_eleito</td>\n",
              "    </tr>\n",
              "    <tr>\n",
              "      <th>1</th>\n",
              "      <td>nao_eleito</td>\n",
              "    </tr>\n",
              "    <tr>\n",
              "      <th>2</th>\n",
              "      <td>eleito</td>\n",
              "    </tr>\n",
              "    <tr>\n",
              "      <th>3</th>\n",
              "      <td>nao_eleito</td>\n",
              "    </tr>\n",
              "    <tr>\n",
              "      <th>4</th>\n",
              "      <td>eleito</td>\n",
              "    </tr>\n",
              "    <tr>\n",
              "      <th>...</th>\n",
              "      <td>...</td>\n",
              "    </tr>\n",
              "    <tr>\n",
              "      <th>7617</th>\n",
              "      <td>nao_eleito</td>\n",
              "    </tr>\n",
              "    <tr>\n",
              "      <th>7618</th>\n",
              "      <td>nao_eleito</td>\n",
              "    </tr>\n",
              "    <tr>\n",
              "      <th>7619</th>\n",
              "      <td>nao_eleito</td>\n",
              "    </tr>\n",
              "    <tr>\n",
              "      <th>7620</th>\n",
              "      <td>nao_eleito</td>\n",
              "    </tr>\n",
              "    <tr>\n",
              "      <th>7621</th>\n",
              "      <td>nao_eleito</td>\n",
              "    </tr>\n",
              "  </tbody>\n",
              "</table>\n",
              "<p>7622 rows × 1 columns</p>\n",
              "</div>\n",
              "      <button class=\"colab-df-convert\" onclick=\"convertToInteractive('df-d5321ae3-d67a-44c0-87fa-5f1e26687876')\"\n",
              "              title=\"Convert this dataframe to an interactive table.\"\n",
              "              style=\"display:none;\">\n",
              "        \n",
              "  <svg xmlns=\"http://www.w3.org/2000/svg\" height=\"24px\"viewBox=\"0 0 24 24\"\n",
              "       width=\"24px\">\n",
              "    <path d=\"M0 0h24v24H0V0z\" fill=\"none\"/>\n",
              "    <path d=\"M18.56 5.44l.94 2.06.94-2.06 2.06-.94-2.06-.94-.94-2.06-.94 2.06-2.06.94zm-11 1L8.5 8.5l.94-2.06 2.06-.94-2.06-.94L8.5 2.5l-.94 2.06-2.06.94zm10 10l.94 2.06.94-2.06 2.06-.94-2.06-.94-.94-2.06-.94 2.06-2.06.94z\"/><path d=\"M17.41 7.96l-1.37-1.37c-.4-.4-.92-.59-1.43-.59-.52 0-1.04.2-1.43.59L10.3 9.45l-7.72 7.72c-.78.78-.78 2.05 0 2.83L4 21.41c.39.39.9.59 1.41.59.51 0 1.02-.2 1.41-.59l7.78-7.78 2.81-2.81c.8-.78.8-2.07 0-2.86zM5.41 20L4 18.59l7.72-7.72 1.47 1.35L5.41 20z\"/>\n",
              "  </svg>\n",
              "      </button>\n",
              "      \n",
              "  <style>\n",
              "    .colab-df-container {\n",
              "      display:flex;\n",
              "      flex-wrap:wrap;\n",
              "      gap: 12px;\n",
              "    }\n",
              "\n",
              "    .colab-df-convert {\n",
              "      background-color: #E8F0FE;\n",
              "      border: none;\n",
              "      border-radius: 50%;\n",
              "      cursor: pointer;\n",
              "      display: none;\n",
              "      fill: #1967D2;\n",
              "      height: 32px;\n",
              "      padding: 0 0 0 0;\n",
              "      width: 32px;\n",
              "    }\n",
              "\n",
              "    .colab-df-convert:hover {\n",
              "      background-color: #E2EBFA;\n",
              "      box-shadow: 0px 1px 2px rgba(60, 64, 67, 0.3), 0px 1px 3px 1px rgba(60, 64, 67, 0.15);\n",
              "      fill: #174EA6;\n",
              "    }\n",
              "\n",
              "    [theme=dark] .colab-df-convert {\n",
              "      background-color: #3B4455;\n",
              "      fill: #D2E3FC;\n",
              "    }\n",
              "\n",
              "    [theme=dark] .colab-df-convert:hover {\n",
              "      background-color: #434B5C;\n",
              "      box-shadow: 0px 1px 3px 1px rgba(0, 0, 0, 0.15);\n",
              "      filter: drop-shadow(0px 1px 2px rgba(0, 0, 0, 0.3));\n",
              "      fill: #FFFFFF;\n",
              "    }\n",
              "  </style>\n",
              "\n",
              "      <script>\n",
              "        const buttonEl =\n",
              "          document.querySelector('#df-d5321ae3-d67a-44c0-87fa-5f1e26687876 button.colab-df-convert');\n",
              "        buttonEl.style.display =\n",
              "          google.colab.kernel.accessAllowed ? 'block' : 'none';\n",
              "\n",
              "        async function convertToInteractive(key) {\n",
              "          const element = document.querySelector('#df-d5321ae3-d67a-44c0-87fa-5f1e26687876');\n",
              "          const dataTable =\n",
              "            await google.colab.kernel.invokeFunction('convertToInteractive',\n",
              "                                                     [key], {});\n",
              "          if (!dataTable) return;\n",
              "\n",
              "          const docLinkHtml = 'Like what you see? Visit the ' +\n",
              "            '<a target=\"_blank\" href=https://colab.research.google.com/notebooks/data_table.ipynb>data table notebook</a>'\n",
              "            + ' to learn more about interactive tables.';\n",
              "          element.innerHTML = '';\n",
              "          dataTable['output_type'] = 'display_data';\n",
              "          await google.colab.output.renderOutput(dataTable, element);\n",
              "          const docLink = document.createElement('div');\n",
              "          docLink.innerHTML = docLinkHtml;\n",
              "          element.appendChild(docLink);\n",
              "        }\n",
              "      </script>\n",
              "    </div>\n",
              "  </div>\n",
              "  "
            ]
          },
          "metadata": {},
          "execution_count": 40
        }
      ],
      "source": [
        "df = pd.read_csv(\"/content/drive/MyDrive/AA DATA2/train.csv\") \n",
        "\n",
        "# teste real só será utilizado para gerar o arquivo com as respostas\n",
        "df_test_real = pd.read_csv(\"/content/drive/MyDrive/AA DATA2/test_real.csv\") \n",
        "\n",
        "qtd_treino = df.count()[0]\n",
        "\n",
        "junta_tudo = [df, df_test_real]\n",
        "df = pd.concat(junta_tudo,  ignore_index=True)\n",
        "qtd_total = df.count()[0]\n",
        "\n",
        "df = df.drop([\"ano\", \"sequencial_candidato\", \"nome\"], axis=1) # apagando colunas que não auxiliam na predição\n",
        "df = pd.get_dummies(df, columns = [\"uf\", \"partido\", \"cargo\", \"sexo\", \"grau\", \"estado_civil\", \"ocupacao\"])  # lidando com as variaveis categoricas\n",
        "\n",
        "#numeric_feats = df.dtypes[df.dtypes != \"object\"].index\n",
        "#skewed_feats = df[numeric_feats].apply(lambda x: skew(x.dropna())) # compute skewness\n",
        "#skewed_feats = skewed_feats[skewed_feats > 0.75]\n",
        "#skewed_feats = skewed_feats.index\n",
        "#df[skewed_feats] = np.log1p(df[skewed_feats])\n",
        "\n",
        "# retornando os datasets\n",
        "df_test_real = df.loc[qtd_treino:qtd_total]\n",
        "df = df.loc[0:qtd_treino-1]\n",
        "\n",
        "#### dados de testeq ue serao utilizados no final\n",
        "test_X_final = df_test_real.drop([\"situacao\"], axis = 1)\n",
        "####\n",
        "\n",
        "df_tudo_train_y = df[[\"situacao\"]]\n",
        "df_tudo_train_X = df.drop([\"situacao\"], axis = 1)\n",
        "\n",
        "le = LabelEncoder()\n",
        "le.fit(df_tudo_train_y.situacao)\n",
        "df_tudo_train_y = le.transform(df_tudo_train_y.situacao)\n",
        "\n",
        "train, test = train_test_split(df, train_size=0.8) # separação entre treino e teste  \n",
        "\n",
        "train_y = train[[\"situacao\"]]\n",
        "train_X = train.drop([\"situacao\"], axis = 1)\n",
        "\n",
        "test_y = test[[\"situacao\"]]\n",
        "test_X = test.drop([\"situacao\"], axis = 1)\n",
        "\n",
        "le.fit(train_y.situacao)\n",
        "train_y = le.transform(train_y.situacao)\n",
        "\n",
        "le.fit(test_y.situacao)\n",
        "test_y = le.transform(test_y.situacao)\n"
      ]
    },
    {
      "cell_type": "code",
      "source": [
        "\n"
      ],
      "metadata": {
        "colab": {
          "base_uri": "https://localhost:8080/"
        },
        "id": "UYPYPQoTzNOY",
        "outputId": "e2716f85-a2d7-4e73-c369-920036ff9b6b"
      },
      "execution_count": 39,
      "outputs": [
        {
          "output_type": "stream",
          "name": "stdout",
          "text": [
            "[1 1 0 ... 1 1 1]\n"
          ]
        }
      ]
    },
    {
      "cell_type": "code",
      "source": [],
      "metadata": {
        "id": "sH9juOIxzNJI"
      },
      "execution_count": null,
      "outputs": []
    },
    {
      "cell_type": "code",
      "source": [
        "train_X.head()"
      ],
      "metadata": {
        "colab": {
          "base_uri": "https://localhost:8080/",
          "height": 369
        },
        "id": "br1XTa8MOypl",
        "outputId": "39a0070a-14c9-41dd-cb8a-d8cddcf96ac2"
      },
      "execution_count": 90,
      "outputs": [
        {
          "output_type": "execute_result",
          "data": {
            "text/plain": [
              "      quantidade_doacoes  quantidade_doadores  total_receita  media_receita  \\\n",
              "2408                  73                   67      268332.70        3675.79   \n",
              "2226                   1                    1         240.00         240.00   \n",
              "1152                  11                    8       25300.00        2300.00   \n",
              "4335                   2                    2         807.65         403.82   \n",
              "3075                   4                    4        3708.07         927.02   \n",
              "\n",
              "      recursos_de_outros_candidatos.comites  recursos_de_pessoas_fisicas  \\\n",
              "2408                               35277.70                     25430.00   \n",
              "2226                                   0.00                       240.00   \n",
              "1152                                   0.00                      1300.00   \n",
              "4335                                 807.65                         0.00   \n",
              "3075                                   0.00                      2208.07   \n",
              "\n",
              "      recursos_de_pessoas_juridicas  recursos_proprios  \\\n",
              "2408                        95000.0            12625.0   \n",
              "2226                            0.0                0.0   \n",
              "1152                         7000.0                0.0   \n",
              "4335                            0.0                0.0   \n",
              "3075                            0.0             1500.0   \n",
              "\n",
              "      recursos_de_partido_politico  quantidade_despesas  ...  \\\n",
              "2408                      100000.0                  175  ...   \n",
              "2226                           0.0                    1  ...   \n",
              "1152                       17000.0                   71  ...   \n",
              "4335                           0.0                    2  ...   \n",
              "3075                           0.0                   23  ...   \n",
              "\n",
              "      ocupacao_TÉCNICO DE OBRAS CIVIS, ESTRADAS, SANEAMENTO E ASSEMELHADOS  \\\n",
              "2408                                                  0                      \n",
              "2226                                                  0                      \n",
              "1152                                                  0                      \n",
              "4335                                                  0                      \n",
              "3075                                                  0                      \n",
              "\n",
              "      ocupacao_TÉCNICO EM AGRONOMIA E AGRIMENSURA  \\\n",
              "2408                                            0   \n",
              "2226                                            0   \n",
              "1152                                            0   \n",
              "4335                                            0   \n",
              "3075                                            0   \n",
              "\n",
              "      ocupacao_TÉCNICO EM EDIFICAÇÕES  ocupacao_TÉCNICO EM INFORMÁTICA  \\\n",
              "2408                                0                                0   \n",
              "2226                                0                                0   \n",
              "1152                                0                                0   \n",
              "4335                                0                                0   \n",
              "3075                                0                                0   \n",
              "\n",
              "      ocupacao_VENDEDOR DE COMÉRCIO VAREJISTA E ATACADISTA  \\\n",
              "2408                                                  0      \n",
              "2226                                                  0      \n",
              "1152                                                  0      \n",
              "4335                                                  0      \n",
              "3075                                                  0      \n",
              "\n",
              "      ocupacao_VENDEDOR PRACISTA, REPRESENTANTE, CAIXEIRO-VIAJANTE E ASSEMELHADOS  \\\n",
              "2408                                                  0                             \n",
              "2226                                                  0                             \n",
              "1152                                                  0                             \n",
              "4335                                                  0                             \n",
              "3075                                                  0                             \n",
              "\n",
              "      ocupacao_VEREADOR  ocupacao_VETERINÁRIO  ocupacao_VIGILANTE  \\\n",
              "2408                  0                     0                   0   \n",
              "2226                  0                     0                   0   \n",
              "1152                  0                     0                   0   \n",
              "4335                  0                     0                   0   \n",
              "3075                  0                     0                   0   \n",
              "\n",
              "      ocupacao_ZOOTECNISTA  \n",
              "2408                     0  \n",
              "2226                     0  \n",
              "1152                     0  \n",
              "4335                     0  \n",
              "3075                     0  \n",
              "\n",
              "[5 rows x 262 columns]"
            ],
            "text/html": [
              "\n",
              "  <div id=\"df-124ad5fa-84bc-4f85-ab44-1c08af1ad035\">\n",
              "    <div class=\"colab-df-container\">\n",
              "      <div>\n",
              "<style scoped>\n",
              "    .dataframe tbody tr th:only-of-type {\n",
              "        vertical-align: middle;\n",
              "    }\n",
              "\n",
              "    .dataframe tbody tr th {\n",
              "        vertical-align: top;\n",
              "    }\n",
              "\n",
              "    .dataframe thead th {\n",
              "        text-align: right;\n",
              "    }\n",
              "</style>\n",
              "<table border=\"1\" class=\"dataframe\">\n",
              "  <thead>\n",
              "    <tr style=\"text-align: right;\">\n",
              "      <th></th>\n",
              "      <th>quantidade_doacoes</th>\n",
              "      <th>quantidade_doadores</th>\n",
              "      <th>total_receita</th>\n",
              "      <th>media_receita</th>\n",
              "      <th>recursos_de_outros_candidatos.comites</th>\n",
              "      <th>recursos_de_pessoas_fisicas</th>\n",
              "      <th>recursos_de_pessoas_juridicas</th>\n",
              "      <th>recursos_proprios</th>\n",
              "      <th>recursos_de_partido_politico</th>\n",
              "      <th>quantidade_despesas</th>\n",
              "      <th>...</th>\n",
              "      <th>ocupacao_TÉCNICO DE OBRAS CIVIS, ESTRADAS, SANEAMENTO E ASSEMELHADOS</th>\n",
              "      <th>ocupacao_TÉCNICO EM AGRONOMIA E AGRIMENSURA</th>\n",
              "      <th>ocupacao_TÉCNICO EM EDIFICAÇÕES</th>\n",
              "      <th>ocupacao_TÉCNICO EM INFORMÁTICA</th>\n",
              "      <th>ocupacao_VENDEDOR DE COMÉRCIO VAREJISTA E ATACADISTA</th>\n",
              "      <th>ocupacao_VENDEDOR PRACISTA, REPRESENTANTE, CAIXEIRO-VIAJANTE E ASSEMELHADOS</th>\n",
              "      <th>ocupacao_VEREADOR</th>\n",
              "      <th>ocupacao_VETERINÁRIO</th>\n",
              "      <th>ocupacao_VIGILANTE</th>\n",
              "      <th>ocupacao_ZOOTECNISTA</th>\n",
              "    </tr>\n",
              "  </thead>\n",
              "  <tbody>\n",
              "    <tr>\n",
              "      <th>2408</th>\n",
              "      <td>73</td>\n",
              "      <td>67</td>\n",
              "      <td>268332.70</td>\n",
              "      <td>3675.79</td>\n",
              "      <td>35277.70</td>\n",
              "      <td>25430.00</td>\n",
              "      <td>95000.0</td>\n",
              "      <td>12625.0</td>\n",
              "      <td>100000.0</td>\n",
              "      <td>175</td>\n",
              "      <td>...</td>\n",
              "      <td>0</td>\n",
              "      <td>0</td>\n",
              "      <td>0</td>\n",
              "      <td>0</td>\n",
              "      <td>0</td>\n",
              "      <td>0</td>\n",
              "      <td>0</td>\n",
              "      <td>0</td>\n",
              "      <td>0</td>\n",
              "      <td>0</td>\n",
              "    </tr>\n",
              "    <tr>\n",
              "      <th>2226</th>\n",
              "      <td>1</td>\n",
              "      <td>1</td>\n",
              "      <td>240.00</td>\n",
              "      <td>240.00</td>\n",
              "      <td>0.00</td>\n",
              "      <td>240.00</td>\n",
              "      <td>0.0</td>\n",
              "      <td>0.0</td>\n",
              "      <td>0.0</td>\n",
              "      <td>1</td>\n",
              "      <td>...</td>\n",
              "      <td>0</td>\n",
              "      <td>0</td>\n",
              "      <td>0</td>\n",
              "      <td>0</td>\n",
              "      <td>0</td>\n",
              "      <td>0</td>\n",
              "      <td>0</td>\n",
              "      <td>0</td>\n",
              "      <td>0</td>\n",
              "      <td>0</td>\n",
              "    </tr>\n",
              "    <tr>\n",
              "      <th>1152</th>\n",
              "      <td>11</td>\n",
              "      <td>8</td>\n",
              "      <td>25300.00</td>\n",
              "      <td>2300.00</td>\n",
              "      <td>0.00</td>\n",
              "      <td>1300.00</td>\n",
              "      <td>7000.0</td>\n",
              "      <td>0.0</td>\n",
              "      <td>17000.0</td>\n",
              "      <td>71</td>\n",
              "      <td>...</td>\n",
              "      <td>0</td>\n",
              "      <td>0</td>\n",
              "      <td>0</td>\n",
              "      <td>0</td>\n",
              "      <td>0</td>\n",
              "      <td>0</td>\n",
              "      <td>0</td>\n",
              "      <td>0</td>\n",
              "      <td>0</td>\n",
              "      <td>0</td>\n",
              "    </tr>\n",
              "    <tr>\n",
              "      <th>4335</th>\n",
              "      <td>2</td>\n",
              "      <td>2</td>\n",
              "      <td>807.65</td>\n",
              "      <td>403.82</td>\n",
              "      <td>807.65</td>\n",
              "      <td>0.00</td>\n",
              "      <td>0.0</td>\n",
              "      <td>0.0</td>\n",
              "      <td>0.0</td>\n",
              "      <td>2</td>\n",
              "      <td>...</td>\n",
              "      <td>0</td>\n",
              "      <td>0</td>\n",
              "      <td>0</td>\n",
              "      <td>0</td>\n",
              "      <td>0</td>\n",
              "      <td>0</td>\n",
              "      <td>0</td>\n",
              "      <td>0</td>\n",
              "      <td>0</td>\n",
              "      <td>0</td>\n",
              "    </tr>\n",
              "    <tr>\n",
              "      <th>3075</th>\n",
              "      <td>4</td>\n",
              "      <td>4</td>\n",
              "      <td>3708.07</td>\n",
              "      <td>927.02</td>\n",
              "      <td>0.00</td>\n",
              "      <td>2208.07</td>\n",
              "      <td>0.0</td>\n",
              "      <td>1500.0</td>\n",
              "      <td>0.0</td>\n",
              "      <td>23</td>\n",
              "      <td>...</td>\n",
              "      <td>0</td>\n",
              "      <td>0</td>\n",
              "      <td>0</td>\n",
              "      <td>0</td>\n",
              "      <td>0</td>\n",
              "      <td>0</td>\n",
              "      <td>0</td>\n",
              "      <td>0</td>\n",
              "      <td>0</td>\n",
              "      <td>0</td>\n",
              "    </tr>\n",
              "  </tbody>\n",
              "</table>\n",
              "<p>5 rows × 262 columns</p>\n",
              "</div>\n",
              "      <button class=\"colab-df-convert\" onclick=\"convertToInteractive('df-124ad5fa-84bc-4f85-ab44-1c08af1ad035')\"\n",
              "              title=\"Convert this dataframe to an interactive table.\"\n",
              "              style=\"display:none;\">\n",
              "        \n",
              "  <svg xmlns=\"http://www.w3.org/2000/svg\" height=\"24px\"viewBox=\"0 0 24 24\"\n",
              "       width=\"24px\">\n",
              "    <path d=\"M0 0h24v24H0V0z\" fill=\"none\"/>\n",
              "    <path d=\"M18.56 5.44l.94 2.06.94-2.06 2.06-.94-2.06-.94-.94-2.06-.94 2.06-2.06.94zm-11 1L8.5 8.5l.94-2.06 2.06-.94-2.06-.94L8.5 2.5l-.94 2.06-2.06.94zm10 10l.94 2.06.94-2.06 2.06-.94-2.06-.94-.94-2.06-.94 2.06-2.06.94z\"/><path d=\"M17.41 7.96l-1.37-1.37c-.4-.4-.92-.59-1.43-.59-.52 0-1.04.2-1.43.59L10.3 9.45l-7.72 7.72c-.78.78-.78 2.05 0 2.83L4 21.41c.39.39.9.59 1.41.59.51 0 1.02-.2 1.41-.59l7.78-7.78 2.81-2.81c.8-.78.8-2.07 0-2.86zM5.41 20L4 18.59l7.72-7.72 1.47 1.35L5.41 20z\"/>\n",
              "  </svg>\n",
              "      </button>\n",
              "      \n",
              "  <style>\n",
              "    .colab-df-container {\n",
              "      display:flex;\n",
              "      flex-wrap:wrap;\n",
              "      gap: 12px;\n",
              "    }\n",
              "\n",
              "    .colab-df-convert {\n",
              "      background-color: #E8F0FE;\n",
              "      border: none;\n",
              "      border-radius: 50%;\n",
              "      cursor: pointer;\n",
              "      display: none;\n",
              "      fill: #1967D2;\n",
              "      height: 32px;\n",
              "      padding: 0 0 0 0;\n",
              "      width: 32px;\n",
              "    }\n",
              "\n",
              "    .colab-df-convert:hover {\n",
              "      background-color: #E2EBFA;\n",
              "      box-shadow: 0px 1px 2px rgba(60, 64, 67, 0.3), 0px 1px 3px 1px rgba(60, 64, 67, 0.15);\n",
              "      fill: #174EA6;\n",
              "    }\n",
              "\n",
              "    [theme=dark] .colab-df-convert {\n",
              "      background-color: #3B4455;\n",
              "      fill: #D2E3FC;\n",
              "    }\n",
              "\n",
              "    [theme=dark] .colab-df-convert:hover {\n",
              "      background-color: #434B5C;\n",
              "      box-shadow: 0px 1px 3px 1px rgba(0, 0, 0, 0.15);\n",
              "      filter: drop-shadow(0px 1px 2px rgba(0, 0, 0, 0.3));\n",
              "      fill: #FFFFFF;\n",
              "    }\n",
              "  </style>\n",
              "\n",
              "      <script>\n",
              "        const buttonEl =\n",
              "          document.querySelector('#df-124ad5fa-84bc-4f85-ab44-1c08af1ad035 button.colab-df-convert');\n",
              "        buttonEl.style.display =\n",
              "          google.colab.kernel.accessAllowed ? 'block' : 'none';\n",
              "\n",
              "        async function convertToInteractive(key) {\n",
              "          const element = document.querySelector('#df-124ad5fa-84bc-4f85-ab44-1c08af1ad035');\n",
              "          const dataTable =\n",
              "            await google.colab.kernel.invokeFunction('convertToInteractive',\n",
              "                                                     [key], {});\n",
              "          if (!dataTable) return;\n",
              "\n",
              "          const docLinkHtml = 'Like what you see? Visit the ' +\n",
              "            '<a target=\"_blank\" href=https://colab.research.google.com/notebooks/data_table.ipynb>data table notebook</a>'\n",
              "            + ' to learn more about interactive tables.';\n",
              "          element.innerHTML = '';\n",
              "          dataTable['output_type'] = 'display_data';\n",
              "          await google.colab.output.renderOutput(dataTable, element);\n",
              "          const docLink = document.createElement('div');\n",
              "          docLink.innerHTML = docLinkHtml;\n",
              "          element.appendChild(docLink);\n",
              "        }\n",
              "      </script>\n",
              "    </div>\n",
              "  </div>\n",
              "  "
            ]
          },
          "metadata": {},
          "execution_count": 90
        }
      ]
    },
    {
      "cell_type": "code",
      "execution_count": 8,
      "metadata": {
        "id": "QjJW9fzCxgfY",
        "outputId": "25bbd00a-9a16-4144-e16f-ecccf0da226b",
        "colab": {
          "base_uri": "https://localhost:8080/"
        }
      },
      "outputs": [
        {
          "output_type": "stream",
          "name": "stdout",
          "text": [
            "nao_eleito    6596\n",
            "eleito        1026\n",
            "Name: situacao, dtype: int64\n",
            "\n",
            "Eleitos representam 13.4610% do dataset.\n",
            "\n"
          ]
        },
        {
          "output_type": "execute_result",
          "data": {
            "text/plain": [
              "situacao\n",
              "eleito        1026\n",
              "nao_eleito    6596\n",
              "dtype: int64"
            ]
          },
          "metadata": {},
          "execution_count": 8
        }
      ],
      "source": [
        "print(df.situacao.value_counts())\n",
        "print(\"\\nEleitos representam {:.4f}% do dataset.\\n\".format((df[df.situacao == \"eleito\"].shape[0] / df.shape[0]) * 100))\n",
        "df.groupby(\"situacao\").size()"
      ]
    },
    {
      "cell_type": "markdown",
      "metadata": {
        "id": "lgVsm8ZPxgfZ"
      },
      "source": [
        "# Questão 1\n",
        "\n",
        "- P: Há desbalanceamento das classes (isto é, uma classe tem muito mais instâncias que outra)? \n",
        "### R: Sim, Temos um dataset desbalanceado com mais classes do tipo \"não eleito\". mais ou menos 5 para 1, do que para o \"eleito\".\n",
        "\n",
        "- P: Em que proporção? \n",
        "### R: Mais de 5 para 1, (eleito 1026 e nao_eleito 6596) ou seja a cada 1 eleito temos quase 6 não eleitos. Eleitos representam 13.4593% do dataset.\n",
        "\n",
        "- P: Quais efeitos colaterais o desbalanceamento de classes pode causar no classificador?\n",
        "### R: Alguns algoritmos de ML tem dificuldade em em induzir um bom modelo a partir de conjutos de dados desbalanceados. Se classificarmos com dados da classe desbalanceados, os algoritmos podem não diferenciar  a classe minoritária das demais categorias, acreditando que estão agregando resultado devido à aparente alta acurácia. Essa falta de diferenciação pode ocasionar problemas visto que geralmente a classe minoritária é o cerne da questão, como no nosso caso, quem foi eleito.\n",
        "\n",
        "- P: Como você poderia tratar isso? (10 pt.)\n",
        "### R: Pode ser utilizado as técnicas de \"Reestruturação dos dados\". Dentro das ténicas de \"Reestruturação de dados\" pode ser feito o \"Undersamplig\", que é reduzir a distribuição dos dados das observações da classe majoritária, para tentar igualar a quantidade. Isso pode ser feito com \"Random Undersamplig\", que é a retirada aleatória de observações da classe majoritária, ou \"Fusão\" que é unir duas ou mais observações da classe majoritária para uma menor perda de informação. Outra forma é o Oversampling consite em criar novas observações da classe minoritária com o objetivo de igualar a proporção das categorias. Outra opção é escolher um algoritmo mais resilente, coletar mais dados e usar modelos penalizados ou utilizar outras métricas para treino.\n",
        "\n",
        "\n",
        "Fonte: https://medium.com/turing-talks/dados-desbalanceados-o-que-s%C3%A3o-e-como-evit%C3%A1-los-43df4f49732b\n",
        "\n"
      ]
    },
    {
      "cell_type": "markdown",
      "metadata": {
        "id": "MGIUhkSvxgfa"
      },
      "source": [
        "# Questão 2 \n",
        "\n",
        "Treine: \n",
        "- P: 2.1 - um modelo de regressão logística \n",
        "### R: Treinado\n",
        "- 2.2 - uma árvore de decisão\n",
        "### R: Treinado\n",
        "- 2.3 - um modelo de adaboost\n",
        "### R: Treinado\n",
        "- 2.4 - um modelo de random forest e \n",
        "### R: Treinado\n",
        "-3 2.5 - um modelo de gradient boosting.  \n",
        "### R: Treinado\n",
        "- 2.6 - Tune esses modelos usando validação cruzada e controle overfitting se necessário, considerando as particularidades de cada modelo.  (10 pts.)"
      ]
    },
    {
      "cell_type": "markdown",
      "metadata": {
        "id": "qJS3g5Smxgfa"
      },
      "source": [
        "# Antes do balanceamento"
      ]
    },
    {
      "cell_type": "markdown",
      "source": [
        "### Cross Validation"
      ],
      "metadata": {
        "id": "3NYwxu4fkSBs"
      }
    },
    {
      "cell_type": "code",
      "source": [
        "models = []\n",
        "results = []\n",
        "media = pd.DataFrame(\"nome\": [\"teste\"], {\"precisao\": [0.5]})\n",
        "names = []\n",
        "models.append((\"LogisticRegression\", LogisticRegression()))\n",
        "models.append((\"DecisionTreeClassifier\", tree.DecisionTreeClassifier())) ##\n",
        "models.append((\"AdaBoostClassifier\", AdaBoostClassifier())) ##\n",
        "models.append((\"RandomForestClassifier\", RandomForestClassifier())) ##\n",
        "models.append((\"GradientBoostingClassifier\", GradientBoostingClassifier())) ##\n",
        "models.append((\"SVM\", svm.SVC())) ##\n",
        "\n",
        "for name, model in models:\n",
        "    kfold = KFold(n_splits=10)\n",
        "    cv_results = cross_val_score(model, df_tudo_train_X, df_tudo_train_y, cv = kfold, scoring=\"precision\")\n",
        "    results.append(cv_results)\n",
        "    linha = pd.DataFrame({\"nome\":[name], \"precisao\": [cv_results.mean()]})\n",
        "    media = pd.concat([media, linha], ignore_index=True)\n",
        "    names.append(name)\n",
        "    print(\"%s: %f precision with a standard deviation of %f\" % (name, cv_results.mean(), cv_results.std()))"
      ],
      "metadata": {
        "colab": {
          "base_uri": "https://localhost:8080/"
        },
        "id": "7x3jRqZVg240",
        "outputId": "2263fd56-6f48-4589-faf2-365e9fde160e"
      },
      "execution_count": 17,
      "outputs": [
        {
          "output_type": "stream",
          "name": "stderr",
          "text": [
            "/usr/local/lib/python3.7/dist-packages/sklearn/linear_model/_logistic.py:818: ConvergenceWarning: lbfgs failed to converge (status=1):\n",
            "STOP: TOTAL NO. of ITERATIONS REACHED LIMIT.\n",
            "\n",
            "Increase the number of iterations (max_iter) or scale the data as shown in:\n",
            "    https://scikit-learn.org/stable/modules/preprocessing.html\n",
            "Please also refer to the documentation for alternative solver options:\n",
            "    https://scikit-learn.org/stable/modules/linear_model.html#logistic-regression\n",
            "  extra_warning_msg=_LOGISTIC_SOLVER_CONVERGENCE_MSG,\n",
            "/usr/local/lib/python3.7/dist-packages/sklearn/linear_model/_logistic.py:818: ConvergenceWarning: lbfgs failed to converge (status=1):\n",
            "STOP: TOTAL NO. of ITERATIONS REACHED LIMIT.\n",
            "\n",
            "Increase the number of iterations (max_iter) or scale the data as shown in:\n",
            "    https://scikit-learn.org/stable/modules/preprocessing.html\n",
            "Please also refer to the documentation for alternative solver options:\n",
            "    https://scikit-learn.org/stable/modules/linear_model.html#logistic-regression\n",
            "  extra_warning_msg=_LOGISTIC_SOLVER_CONVERGENCE_MSG,\n",
            "/usr/local/lib/python3.7/dist-packages/sklearn/linear_model/_logistic.py:818: ConvergenceWarning: lbfgs failed to converge (status=1):\n",
            "STOP: TOTAL NO. of ITERATIONS REACHED LIMIT.\n",
            "\n",
            "Increase the number of iterations (max_iter) or scale the data as shown in:\n",
            "    https://scikit-learn.org/stable/modules/preprocessing.html\n",
            "Please also refer to the documentation for alternative solver options:\n",
            "    https://scikit-learn.org/stable/modules/linear_model.html#logistic-regression\n",
            "  extra_warning_msg=_LOGISTIC_SOLVER_CONVERGENCE_MSG,\n",
            "/usr/local/lib/python3.7/dist-packages/sklearn/linear_model/_logistic.py:818: ConvergenceWarning: lbfgs failed to converge (status=1):\n",
            "STOP: TOTAL NO. of ITERATIONS REACHED LIMIT.\n",
            "\n",
            "Increase the number of iterations (max_iter) or scale the data as shown in:\n",
            "    https://scikit-learn.org/stable/modules/preprocessing.html\n",
            "Please also refer to the documentation for alternative solver options:\n",
            "    https://scikit-learn.org/stable/modules/linear_model.html#logistic-regression\n",
            "  extra_warning_msg=_LOGISTIC_SOLVER_CONVERGENCE_MSG,\n"
          ]
        },
        {
          "output_type": "stream",
          "name": "stdout",
          "text": [
            "LogisticRegression: 0.922313 precision with a standard deviation of 0.041307\n",
            "DecisionTreeClassifier: 0.940815 precision with a standard deviation of 0.027764\n",
            "AdaBoostClassifier: 0.950358 precision with a standard deviation of 0.029421\n",
            "RandomForestClassifier: 0.948875 precision with a standard deviation of 0.035886\n",
            "GradientBoostingClassifier: 0.951903 precision with a standard deviation of 0.030712\n",
            "SVM: 0.937534 precision with a standard deviation of 0.038149\n"
          ]
        }
      ]
    },
    {
      "cell_type": "code",
      "source": [
        "media"
      ],
      "metadata": {
        "colab": {
          "base_uri": "https://localhost:8080/",
          "height": 258
        },
        "id": "Hb8pUkKBoe5B",
        "outputId": "0b7d92a0-699a-4fce-d40b-9dab467f6e69"
      },
      "execution_count": 32,
      "outputs": [
        {
          "output_type": "execute_result",
          "data": {
            "text/plain": [
              "   precisao                        nome\n",
              "0  0.500000                       teste\n",
              "1  0.922313          LogisticRegression\n",
              "2  0.940815      DecisionTreeClassifier\n",
              "3  0.950358          AdaBoostClassifier\n",
              "4  0.948875      RandomForestClassifier\n",
              "5  0.951903  GradientBoostingClassifier\n",
              "6  0.937534                         SVM"
            ],
            "text/html": [
              "\n",
              "  <div id=\"df-7e94fe7c-3e4b-445a-8aca-1ea89d25b4b7\">\n",
              "    <div class=\"colab-df-container\">\n",
              "      <div>\n",
              "<style scoped>\n",
              "    .dataframe tbody tr th:only-of-type {\n",
              "        vertical-align: middle;\n",
              "    }\n",
              "\n",
              "    .dataframe tbody tr th {\n",
              "        vertical-align: top;\n",
              "    }\n",
              "\n",
              "    .dataframe thead th {\n",
              "        text-align: right;\n",
              "    }\n",
              "</style>\n",
              "<table border=\"1\" class=\"dataframe\">\n",
              "  <thead>\n",
              "    <tr style=\"text-align: right;\">\n",
              "      <th></th>\n",
              "      <th>precisao</th>\n",
              "      <th>nome</th>\n",
              "    </tr>\n",
              "  </thead>\n",
              "  <tbody>\n",
              "    <tr>\n",
              "      <th>0</th>\n",
              "      <td>0.500000</td>\n",
              "      <td>teste</td>\n",
              "    </tr>\n",
              "    <tr>\n",
              "      <th>1</th>\n",
              "      <td>0.922313</td>\n",
              "      <td>LogisticRegression</td>\n",
              "    </tr>\n",
              "    <tr>\n",
              "      <th>2</th>\n",
              "      <td>0.940815</td>\n",
              "      <td>DecisionTreeClassifier</td>\n",
              "    </tr>\n",
              "    <tr>\n",
              "      <th>3</th>\n",
              "      <td>0.950358</td>\n",
              "      <td>AdaBoostClassifier</td>\n",
              "    </tr>\n",
              "    <tr>\n",
              "      <th>4</th>\n",
              "      <td>0.948875</td>\n",
              "      <td>RandomForestClassifier</td>\n",
              "    </tr>\n",
              "    <tr>\n",
              "      <th>5</th>\n",
              "      <td>0.951903</td>\n",
              "      <td>GradientBoostingClassifier</td>\n",
              "    </tr>\n",
              "    <tr>\n",
              "      <th>6</th>\n",
              "      <td>0.937534</td>\n",
              "      <td>SVM</td>\n",
              "    </tr>\n",
              "  </tbody>\n",
              "</table>\n",
              "</div>\n",
              "      <button class=\"colab-df-convert\" onclick=\"convertToInteractive('df-7e94fe7c-3e4b-445a-8aca-1ea89d25b4b7')\"\n",
              "              title=\"Convert this dataframe to an interactive table.\"\n",
              "              style=\"display:none;\">\n",
              "        \n",
              "  <svg xmlns=\"http://www.w3.org/2000/svg\" height=\"24px\"viewBox=\"0 0 24 24\"\n",
              "       width=\"24px\">\n",
              "    <path d=\"M0 0h24v24H0V0z\" fill=\"none\"/>\n",
              "    <path d=\"M18.56 5.44l.94 2.06.94-2.06 2.06-.94-2.06-.94-.94-2.06-.94 2.06-2.06.94zm-11 1L8.5 8.5l.94-2.06 2.06-.94-2.06-.94L8.5 2.5l-.94 2.06-2.06.94zm10 10l.94 2.06.94-2.06 2.06-.94-2.06-.94-.94-2.06-.94 2.06-2.06.94z\"/><path d=\"M17.41 7.96l-1.37-1.37c-.4-.4-.92-.59-1.43-.59-.52 0-1.04.2-1.43.59L10.3 9.45l-7.72 7.72c-.78.78-.78 2.05 0 2.83L4 21.41c.39.39.9.59 1.41.59.51 0 1.02-.2 1.41-.59l7.78-7.78 2.81-2.81c.8-.78.8-2.07 0-2.86zM5.41 20L4 18.59l7.72-7.72 1.47 1.35L5.41 20z\"/>\n",
              "  </svg>\n",
              "      </button>\n",
              "      \n",
              "  <style>\n",
              "    .colab-df-container {\n",
              "      display:flex;\n",
              "      flex-wrap:wrap;\n",
              "      gap: 12px;\n",
              "    }\n",
              "\n",
              "    .colab-df-convert {\n",
              "      background-color: #E8F0FE;\n",
              "      border: none;\n",
              "      border-radius: 50%;\n",
              "      cursor: pointer;\n",
              "      display: none;\n",
              "      fill: #1967D2;\n",
              "      height: 32px;\n",
              "      padding: 0 0 0 0;\n",
              "      width: 32px;\n",
              "    }\n",
              "\n",
              "    .colab-df-convert:hover {\n",
              "      background-color: #E2EBFA;\n",
              "      box-shadow: 0px 1px 2px rgba(60, 64, 67, 0.3), 0px 1px 3px 1px rgba(60, 64, 67, 0.15);\n",
              "      fill: #174EA6;\n",
              "    }\n",
              "\n",
              "    [theme=dark] .colab-df-convert {\n",
              "      background-color: #3B4455;\n",
              "      fill: #D2E3FC;\n",
              "    }\n",
              "\n",
              "    [theme=dark] .colab-df-convert:hover {\n",
              "      background-color: #434B5C;\n",
              "      box-shadow: 0px 1px 3px 1px rgba(0, 0, 0, 0.15);\n",
              "      filter: drop-shadow(0px 1px 2px rgba(0, 0, 0, 0.3));\n",
              "      fill: #FFFFFF;\n",
              "    }\n",
              "  </style>\n",
              "\n",
              "      <script>\n",
              "        const buttonEl =\n",
              "          document.querySelector('#df-7e94fe7c-3e4b-445a-8aca-1ea89d25b4b7 button.colab-df-convert');\n",
              "        buttonEl.style.display =\n",
              "          google.colab.kernel.accessAllowed ? 'block' : 'none';\n",
              "\n",
              "        async function convertToInteractive(key) {\n",
              "          const element = document.querySelector('#df-7e94fe7c-3e4b-445a-8aca-1ea89d25b4b7');\n",
              "          const dataTable =\n",
              "            await google.colab.kernel.invokeFunction('convertToInteractive',\n",
              "                                                     [key], {});\n",
              "          if (!dataTable) return;\n",
              "\n",
              "          const docLinkHtml = 'Like what you see? Visit the ' +\n",
              "            '<a target=\"_blank\" href=https://colab.research.google.com/notebooks/data_table.ipynb>data table notebook</a>'\n",
              "            + ' to learn more about interactive tables.';\n",
              "          element.innerHTML = '';\n",
              "          dataTable['output_type'] = 'display_data';\n",
              "          await google.colab.output.renderOutput(dataTable, element);\n",
              "          const docLink = document.createElement('div');\n",
              "          docLink.innerHTML = docLinkHtml;\n",
              "          element.appendChild(docLink);\n",
              "        }\n",
              "      </script>\n",
              "    </div>\n",
              "  </div>\n",
              "  "
            ]
          },
          "metadata": {},
          "execution_count": 32
        }
      ]
    },
    {
      "cell_type": "markdown",
      "source": [
        "### R: Com o Crosvalidation então o GradienBoosting é o modelo que tem a melhor precisão "
      ],
      "metadata": {
        "id": "V9lW-IvFqCGU"
      }
    },
    {
      "cell_type": "markdown",
      "source": [
        "### Sem crossvalidation"
      ],
      "metadata": {
        "id": "QMRyvfCqqMiT"
      }
    },
    {
      "cell_type": "code",
      "source": [
        "resultado = pd.DataFrame({\"Teste\": [0.5, 0.5, 0.5, 0.5]}, index = [\"Precision\", \"Recall\", \"F-Measure\",\"None\"])\n",
        "models = []\n",
        "names = []\n",
        "models.append((\"LogisticRegression\", LogisticRegression()))\n",
        "models.append((\"DecisionTreeClassifier\", tree.DecisionTreeClassifier())) ##\n",
        "models.append((\"AdaBoostClassifier\", AdaBoostClassifier())) ##\n",
        "models.append((\"RandomForestClassifier\", RandomForestClassifier())) ##\n",
        "models.append((\"GradientBoostingClassifier\", GradientBoostingClassifier())) ##\n",
        "models.append((\"SVM\", svm.SVC())) ##\n",
        "\n",
        "for name, model in models:\n",
        "    model.fit(train_X, train_y)\n",
        "    y_pred_train = model.predict(train_X)\n",
        "    y_pred_test = model.predict(test_X)\n",
        "\n",
        "    res =  precision_recall_fscore_support(train_y, y_pred_train, average=\"macro\")\n",
        "    resultado_df = pd.DataFrame(data = res, index= [\"Precision\", \"Recall\", \"F-Measure\",\"None\"], columns=[name + \"Treino\"])\n",
        "    extracted_col = resultado_df[name + \"Treino\"]\n",
        "\n",
        "    res2 =  precision_recall_fscore_support(test_y, y_pred_test, average=\"macro\")\n",
        "    resultado_df2 = pd.DataFrame(data = res2, index= [\"Precision\", \"Recall\", \"F-Measure\",\"None\"], columns=[name + \"Teste\"])\n",
        "    extracted_col2 = resultado_df2[name + \"Teste\"]\n",
        "\n",
        "    resultado = resultado.join(extracted_col)\n",
        "    resultado = resultado.join(extracted_col2)\n",
        "resultado"
      ],
      "metadata": {
        "colab": {
          "base_uri": "https://localhost:8080/",
          "height": 395
        },
        "id": "CyE2FuG_heMv",
        "outputId": "5c0ade86-a08d-40c3-b40b-4f461b95ddd1"
      },
      "execution_count": 33,
      "outputs": [
        {
          "output_type": "stream",
          "name": "stderr",
          "text": [
            "/usr/local/lib/python3.7/dist-packages/sklearn/linear_model/_logistic.py:818: ConvergenceWarning: lbfgs failed to converge (status=1):\n",
            "STOP: TOTAL NO. of ITERATIONS REACHED LIMIT.\n",
            "\n",
            "Increase the number of iterations (max_iter) or scale the data as shown in:\n",
            "    https://scikit-learn.org/stable/modules/preprocessing.html\n",
            "Please also refer to the documentation for alternative solver options:\n",
            "    https://scikit-learn.org/stable/modules/linear_model.html#logistic-regression\n",
            "  extra_warning_msg=_LOGISTIC_SOLVER_CONVERGENCE_MSG,\n"
          ]
        },
        {
          "output_type": "execute_result",
          "data": {
            "text/plain": [
              "           Teste  LogisticRegressionTreino  LogisticRegressionTeste  \\\n",
              "Precision    0.5                  0.809069                 0.847714   \n",
              "Recall       0.5                  0.719394                 0.710360   \n",
              "F-Measure    0.5                  0.753124                 0.754489   \n",
              "None         0.5                       NaN                      NaN   \n",
              "\n",
              "           DecisionTreeClassifierTreino  DecisionTreeClassifierTeste  \\\n",
              "Precision                           1.0                     0.779108   \n",
              "Recall                              1.0                     0.753519   \n",
              "F-Measure                           1.0                     0.765300   \n",
              "None                                NaN                          NaN   \n",
              "\n",
              "           AdaBoostClassifierTreino  AdaBoostClassifierTeste  \\\n",
              "Precision                  0.848960                 0.832974   \n",
              "Recall                     0.826579                 0.797230   \n",
              "F-Measure                  0.837216                 0.813506   \n",
              "None                            NaN                      NaN   \n",
              "\n",
              "           RandomForestClassifierTreino  RandomForestClassifierTeste  \\\n",
              "Precision                           1.0                     0.854680   \n",
              "Recall                              1.0                     0.813813   \n",
              "F-Measure                           1.0                     0.832311   \n",
              "None                                NaN                          NaN   \n",
              "\n",
              "           GradientBoostingClassifierTreino  GradientBoostingClassifierTeste  \\\n",
              "Precision                          0.897969                         0.850708   \n",
              "Recall                             0.878889                         0.821287   \n",
              "F-Measure                          0.888086                         0.834989   \n",
              "None                                    NaN                              NaN   \n",
              "\n",
              "           SVMTreino  SVMTeste  \n",
              "Precision   0.822650  0.858585  \n",
              "Recall      0.777843  0.770737  \n",
              "F-Measure   0.797750  0.805480  \n",
              "None             NaN       NaN  "
            ],
            "text/html": [
              "\n",
              "  <div id=\"df-2a7e83f2-da3a-434e-a749-71379ac3af07\">\n",
              "    <div class=\"colab-df-container\">\n",
              "      <div>\n",
              "<style scoped>\n",
              "    .dataframe tbody tr th:only-of-type {\n",
              "        vertical-align: middle;\n",
              "    }\n",
              "\n",
              "    .dataframe tbody tr th {\n",
              "        vertical-align: top;\n",
              "    }\n",
              "\n",
              "    .dataframe thead th {\n",
              "        text-align: right;\n",
              "    }\n",
              "</style>\n",
              "<table border=\"1\" class=\"dataframe\">\n",
              "  <thead>\n",
              "    <tr style=\"text-align: right;\">\n",
              "      <th></th>\n",
              "      <th>Teste</th>\n",
              "      <th>LogisticRegressionTreino</th>\n",
              "      <th>LogisticRegressionTeste</th>\n",
              "      <th>DecisionTreeClassifierTreino</th>\n",
              "      <th>DecisionTreeClassifierTeste</th>\n",
              "      <th>AdaBoostClassifierTreino</th>\n",
              "      <th>AdaBoostClassifierTeste</th>\n",
              "      <th>RandomForestClassifierTreino</th>\n",
              "      <th>RandomForestClassifierTeste</th>\n",
              "      <th>GradientBoostingClassifierTreino</th>\n",
              "      <th>GradientBoostingClassifierTeste</th>\n",
              "      <th>SVMTreino</th>\n",
              "      <th>SVMTeste</th>\n",
              "    </tr>\n",
              "  </thead>\n",
              "  <tbody>\n",
              "    <tr>\n",
              "      <th>Precision</th>\n",
              "      <td>0.5</td>\n",
              "      <td>0.809069</td>\n",
              "      <td>0.847714</td>\n",
              "      <td>1.0</td>\n",
              "      <td>0.779108</td>\n",
              "      <td>0.848960</td>\n",
              "      <td>0.832974</td>\n",
              "      <td>1.0</td>\n",
              "      <td>0.854680</td>\n",
              "      <td>0.897969</td>\n",
              "      <td>0.850708</td>\n",
              "      <td>0.822650</td>\n",
              "      <td>0.858585</td>\n",
              "    </tr>\n",
              "    <tr>\n",
              "      <th>Recall</th>\n",
              "      <td>0.5</td>\n",
              "      <td>0.719394</td>\n",
              "      <td>0.710360</td>\n",
              "      <td>1.0</td>\n",
              "      <td>0.753519</td>\n",
              "      <td>0.826579</td>\n",
              "      <td>0.797230</td>\n",
              "      <td>1.0</td>\n",
              "      <td>0.813813</td>\n",
              "      <td>0.878889</td>\n",
              "      <td>0.821287</td>\n",
              "      <td>0.777843</td>\n",
              "      <td>0.770737</td>\n",
              "    </tr>\n",
              "    <tr>\n",
              "      <th>F-Measure</th>\n",
              "      <td>0.5</td>\n",
              "      <td>0.753124</td>\n",
              "      <td>0.754489</td>\n",
              "      <td>1.0</td>\n",
              "      <td>0.765300</td>\n",
              "      <td>0.837216</td>\n",
              "      <td>0.813506</td>\n",
              "      <td>1.0</td>\n",
              "      <td>0.832311</td>\n",
              "      <td>0.888086</td>\n",
              "      <td>0.834989</td>\n",
              "      <td>0.797750</td>\n",
              "      <td>0.805480</td>\n",
              "    </tr>\n",
              "    <tr>\n",
              "      <th>None</th>\n",
              "      <td>0.5</td>\n",
              "      <td>NaN</td>\n",
              "      <td>NaN</td>\n",
              "      <td>NaN</td>\n",
              "      <td>NaN</td>\n",
              "      <td>NaN</td>\n",
              "      <td>NaN</td>\n",
              "      <td>NaN</td>\n",
              "      <td>NaN</td>\n",
              "      <td>NaN</td>\n",
              "      <td>NaN</td>\n",
              "      <td>NaN</td>\n",
              "      <td>NaN</td>\n",
              "    </tr>\n",
              "  </tbody>\n",
              "</table>\n",
              "</div>\n",
              "      <button class=\"colab-df-convert\" onclick=\"convertToInteractive('df-2a7e83f2-da3a-434e-a749-71379ac3af07')\"\n",
              "              title=\"Convert this dataframe to an interactive table.\"\n",
              "              style=\"display:none;\">\n",
              "        \n",
              "  <svg xmlns=\"http://www.w3.org/2000/svg\" height=\"24px\"viewBox=\"0 0 24 24\"\n",
              "       width=\"24px\">\n",
              "    <path d=\"M0 0h24v24H0V0z\" fill=\"none\"/>\n",
              "    <path d=\"M18.56 5.44l.94 2.06.94-2.06 2.06-.94-2.06-.94-.94-2.06-.94 2.06-2.06.94zm-11 1L8.5 8.5l.94-2.06 2.06-.94-2.06-.94L8.5 2.5l-.94 2.06-2.06.94zm10 10l.94 2.06.94-2.06 2.06-.94-2.06-.94-.94-2.06-.94 2.06-2.06.94z\"/><path d=\"M17.41 7.96l-1.37-1.37c-.4-.4-.92-.59-1.43-.59-.52 0-1.04.2-1.43.59L10.3 9.45l-7.72 7.72c-.78.78-.78 2.05 0 2.83L4 21.41c.39.39.9.59 1.41.59.51 0 1.02-.2 1.41-.59l7.78-7.78 2.81-2.81c.8-.78.8-2.07 0-2.86zM5.41 20L4 18.59l7.72-7.72 1.47 1.35L5.41 20z\"/>\n",
              "  </svg>\n",
              "      </button>\n",
              "      \n",
              "  <style>\n",
              "    .colab-df-container {\n",
              "      display:flex;\n",
              "      flex-wrap:wrap;\n",
              "      gap: 12px;\n",
              "    }\n",
              "\n",
              "    .colab-df-convert {\n",
              "      background-color: #E8F0FE;\n",
              "      border: none;\n",
              "      border-radius: 50%;\n",
              "      cursor: pointer;\n",
              "      display: none;\n",
              "      fill: #1967D2;\n",
              "      height: 32px;\n",
              "      padding: 0 0 0 0;\n",
              "      width: 32px;\n",
              "    }\n",
              "\n",
              "    .colab-df-convert:hover {\n",
              "      background-color: #E2EBFA;\n",
              "      box-shadow: 0px 1px 2px rgba(60, 64, 67, 0.3), 0px 1px 3px 1px rgba(60, 64, 67, 0.15);\n",
              "      fill: #174EA6;\n",
              "    }\n",
              "\n",
              "    [theme=dark] .colab-df-convert {\n",
              "      background-color: #3B4455;\n",
              "      fill: #D2E3FC;\n",
              "    }\n",
              "\n",
              "    [theme=dark] .colab-df-convert:hover {\n",
              "      background-color: #434B5C;\n",
              "      box-shadow: 0px 1px 3px 1px rgba(0, 0, 0, 0.15);\n",
              "      filter: drop-shadow(0px 1px 2px rgba(0, 0, 0, 0.3));\n",
              "      fill: #FFFFFF;\n",
              "    }\n",
              "  </style>\n",
              "\n",
              "      <script>\n",
              "        const buttonEl =\n",
              "          document.querySelector('#df-2a7e83f2-da3a-434e-a749-71379ac3af07 button.colab-df-convert');\n",
              "        buttonEl.style.display =\n",
              "          google.colab.kernel.accessAllowed ? 'block' : 'none';\n",
              "\n",
              "        async function convertToInteractive(key) {\n",
              "          const element = document.querySelector('#df-2a7e83f2-da3a-434e-a749-71379ac3af07');\n",
              "          const dataTable =\n",
              "            await google.colab.kernel.invokeFunction('convertToInteractive',\n",
              "                                                     [key], {});\n",
              "          if (!dataTable) return;\n",
              "\n",
              "          const docLinkHtml = 'Like what you see? Visit the ' +\n",
              "            '<a target=\"_blank\" href=https://colab.research.google.com/notebooks/data_table.ipynb>data table notebook</a>'\n",
              "            + ' to learn more about interactive tables.';\n",
              "          element.innerHTML = '';\n",
              "          dataTable['output_type'] = 'display_data';\n",
              "          await google.colab.output.renderOutput(dataTable, element);\n",
              "          const docLink = document.createElement('div');\n",
              "          docLink.innerHTML = docLinkHtml;\n",
              "          element.appendChild(docLink);\n",
              "        }\n",
              "      </script>\n",
              "    </div>\n",
              "  </div>\n",
              "  "
            ]
          },
          "metadata": {},
          "execution_count": 33
        }
      ]
    },
    {
      "cell_type": "code",
      "source": [
        "resultado.plot.bar()"
      ],
      "metadata": {
        "colab": {
          "base_uri": "https://localhost:8080/",
          "height": 324
        },
        "id": "MEUne-tKi6MF",
        "outputId": "b866b3d4-3249-4ff1-c481-2b55b749fc3f"
      },
      "execution_count": 34,
      "outputs": [
        {
          "output_type": "execute_result",
          "data": {
            "text/plain": [
              "<matplotlib.axes._subplots.AxesSubplot at 0x7f831a3ce790>"
            ]
          },
          "metadata": {},
          "execution_count": 34
        },
        {
          "output_type": "display_data",
          "data": {
            "text/plain": [
              "<Figure size 432x288 with 1 Axes>"
            ],
            "image/png": "[encoded data removed]"
          },
          "metadata": {
            "needs_background": "light"
          }
        }
      ]
    },
    {
      "cell_type": "markdown",
      "metadata": {
        "id": "Rq718pd9xgfb"
      },
      "source": [
        "# Questão 3\n",
        "- P: 3 - Reporte precision, recall e f-measure no treino e validação. Há uma grande diferença de desempenho no treino/validação? Como você avalia os resultados? Justifique sua resposta. (10 pt.)\n",
        "### R: Sim há uma boa diferença, porém analisando os dados percebe-se que no treino os modelos DecisionTree e RandomForest no treino apontam 1.0 para precision, recall e f-score, apontando o paradoxo da acurrácia por causa do desbalanceamento das classes. Não levando em consideração este fato o modelo Gradient Boost, conforme graficos abaixos e tabela acima é o modelo que teve melhores indicadores (precision e f-score) nos dados de teste entre os modelos.\n",
        "\n",
        "- R: Decision Tree e Randon Forest foram melhores na métrica \"Precisão\" mas isso pode ser efeito do \"paradoxo da acurácia\" por causa dos dados desbalanceados no Treino\n",
        "- R: Decision Tree e Randon Forest foram melhores na métrica \"Recall\" mas isso pode ser efeito do \"paradoxo da acurácia\" por causa dos dados desbalanceados no Treino\n",
        "- R: Decision Tree e Randon Forest foram melhores na métrica \"F-Measure\" mas isso pode ser efeito do \"paradoxo da acurácia\" por causa dos dados desbalanceados no Treino\n",
        "- R: Logist Regression foi melhor para \"Precision\" para os dados desbalanceados no Teste\n",
        "- R: Gradient Boost foi melhor no Teste para \"Recall\" para os dados desbalanceados no Teste\n",
        "- R: Gradient Boost foi melhor no Teste para \"F-Measure\" para os dados desbalanceados no Teste"
      ]
    },
    {
      "cell_type": "code",
      "source": [
        "resultado"
      ],
      "metadata": {
        "colab": {
          "base_uri": "https://localhost:8080/",
          "height": 256
        },
        "id": "LWaqApjgRMSr",
        "outputId": "bb52d64b-f4fd-4765-a550-0fae989beafc"
      },
      "execution_count": 35,
      "outputs": [
        {
          "output_type": "execute_result",
          "data": {
            "text/plain": [
              "           Teste  LogisticRegressionTreino  LogisticRegressionTeste  \\\n",
              "Precision    0.5                  0.809069                 0.847714   \n",
              "Recall       0.5                  0.719394                 0.710360   \n",
              "F-Measure    0.5                  0.753124                 0.754489   \n",
              "None         0.5                       NaN                      NaN   \n",
              "\n",
              "           DecisionTreeClassifierTreino  DecisionTreeClassifierTeste  \\\n",
              "Precision                           1.0                     0.779108   \n",
              "Recall                              1.0                     0.753519   \n",
              "F-Measure                           1.0                     0.765300   \n",
              "None                                NaN                          NaN   \n",
              "\n",
              "           AdaBoostClassifierTreino  AdaBoostClassifierTeste  \\\n",
              "Precision                  0.848960                 0.832974   \n",
              "Recall                     0.826579                 0.797230   \n",
              "F-Measure                  0.837216                 0.813506   \n",
              "None                            NaN                      NaN   \n",
              "\n",
              "           RandomForestClassifierTreino  RandomForestClassifierTeste  \\\n",
              "Precision                           1.0                     0.854680   \n",
              "Recall                              1.0                     0.813813   \n",
              "F-Measure                           1.0                     0.832311   \n",
              "None                                NaN                          NaN   \n",
              "\n",
              "           GradientBoostingClassifierTreino  GradientBoostingClassifierTeste  \\\n",
              "Precision                          0.897969                         0.850708   \n",
              "Recall                             0.878889                         0.821287   \n",
              "F-Measure                          0.888086                         0.834989   \n",
              "None                                    NaN                              NaN   \n",
              "\n",
              "           SVMTreino  SVMTeste  \n",
              "Precision   0.822650  0.858585  \n",
              "Recall      0.777843  0.770737  \n",
              "F-Measure   0.797750  0.805480  \n",
              "None             NaN       NaN  "
            ],
            "text/html": [
              "\n",
              "  <div id=\"df-1ed7d6d9-6949-4b4f-88de-824e6d05ed05\">\n",
              "    <div class=\"colab-df-container\">\n",
              "      <div>\n",
              "<style scoped>\n",
              "    .dataframe tbody tr th:only-of-type {\n",
              "        vertical-align: middle;\n",
              "    }\n",
              "\n",
              "    .dataframe tbody tr th {\n",
              "        vertical-align: top;\n",
              "    }\n",
              "\n",
              "    .dataframe thead th {\n",
              "        text-align: right;\n",
              "    }\n",
              "</style>\n",
              "<table border=\"1\" class=\"dataframe\">\n",
              "  <thead>\n",
              "    <tr style=\"text-align: right;\">\n",
              "      <th></th>\n",
              "      <th>Teste</th>\n",
              "      <th>LogisticRegressionTreino</th>\n",
              "      <th>LogisticRegressionTeste</th>\n",
              "      <th>DecisionTreeClassifierTreino</th>\n",
              "      <th>DecisionTreeClassifierTeste</th>\n",
              "      <th>AdaBoostClassifierTreino</th>\n",
              "      <th>AdaBoostClassifierTeste</th>\n",
              "      <th>RandomForestClassifierTreino</th>\n",
              "      <th>RandomForestClassifierTeste</th>\n",
              "      <th>GradientBoostingClassifierTreino</th>\n",
              "      <th>GradientBoostingClassifierTeste</th>\n",
              "      <th>SVMTreino</th>\n",
              "      <th>SVMTeste</th>\n",
              "    </tr>\n",
              "  </thead>\n",
              "  <tbody>\n",
              "    <tr>\n",
              "      <th>Precision</th>\n",
              "      <td>0.5</td>\n",
              "      <td>0.809069</td>\n",
              "      <td>0.847714</td>\n",
              "      <td>1.0</td>\n",
              "      <td>0.779108</td>\n",
              "      <td>0.848960</td>\n",
              "      <td>0.832974</td>\n",
              "      <td>1.0</td>\n",
              "      <td>0.854680</td>\n",
              "      <td>0.897969</td>\n",
              "      <td>0.850708</td>\n",
              "      <td>0.822650</td>\n",
              "      <td>0.858585</td>\n",
              "    </tr>\n",
              "    <tr>\n",
              "      <th>Recall</th>\n",
              "      <td>0.5</td>\n",
              "      <td>0.719394</td>\n",
              "      <td>0.710360</td>\n",
              "      <td>1.0</td>\n",
              "      <td>0.753519</td>\n",
              "      <td>0.826579</td>\n",
              "      <td>0.797230</td>\n",
              "      <td>1.0</td>\n",
              "      <td>0.813813</td>\n",
              "      <td>0.878889</td>\n",
              "      <td>0.821287</td>\n",
              "      <td>0.777843</td>\n",
              "      <td>0.770737</td>\n",
              "    </tr>\n",
              "    <tr>\n",
              "      <th>F-Measure</th>\n",
              "      <td>0.5</td>\n",
              "      <td>0.753124</td>\n",
              "      <td>0.754489</td>\n",
              "      <td>1.0</td>\n",
              "      <td>0.765300</td>\n",
              "      <td>0.837216</td>\n",
              "      <td>0.813506</td>\n",
              "      <td>1.0</td>\n",
              "      <td>0.832311</td>\n",
              "      <td>0.888086</td>\n",
              "      <td>0.834989</td>\n",
              "      <td>0.797750</td>\n",
              "      <td>0.805480</td>\n",
              "    </tr>\n",
              "    <tr>\n",
              "      <th>None</th>\n",
              "      <td>0.5</td>\n",
              "      <td>NaN</td>\n",
              "      <td>NaN</td>\n",
              "      <td>NaN</td>\n",
              "      <td>NaN</td>\n",
              "      <td>NaN</td>\n",
              "      <td>NaN</td>\n",
              "      <td>NaN</td>\n",
              "      <td>NaN</td>\n",
              "      <td>NaN</td>\n",
              "      <td>NaN</td>\n",
              "      <td>NaN</td>\n",
              "      <td>NaN</td>\n",
              "    </tr>\n",
              "  </tbody>\n",
              "</table>\n",
              "</div>\n",
              "      <button class=\"colab-df-convert\" onclick=\"convertToInteractive('df-1ed7d6d9-6949-4b4f-88de-824e6d05ed05')\"\n",
              "              title=\"Convert this dataframe to an interactive table.\"\n",
              "              style=\"display:none;\">\n",
              "        \n",
              "  <svg xmlns=\"http://www.w3.org/2000/svg\" height=\"24px\"viewBox=\"0 0 24 24\"\n",
              "       width=\"24px\">\n",
              "    <path d=\"M0 0h24v24H0V0z\" fill=\"none\"/>\n",
              "    <path d=\"M18.56 5.44l.94 2.06.94-2.06 2.06-.94-2.06-.94-.94-2.06-.94 2.06-2.06.94zm-11 1L8.5 8.5l.94-2.06 2.06-.94-2.06-.94L8.5 2.5l-.94 2.06-2.06.94zm10 10l.94 2.06.94-2.06 2.06-.94-2.06-.94-.94-2.06-.94 2.06-2.06.94z\"/><path d=\"M17.41 7.96l-1.37-1.37c-.4-.4-.92-.59-1.43-.59-.52 0-1.04.2-1.43.59L10.3 9.45l-7.72 7.72c-.78.78-.78 2.05 0 2.83L4 21.41c.39.39.9.59 1.41.59.51 0 1.02-.2 1.41-.59l7.78-7.78 2.81-2.81c.8-.78.8-2.07 0-2.86zM5.41 20L4 18.59l7.72-7.72 1.47 1.35L5.41 20z\"/>\n",
              "  </svg>\n",
              "      </button>\n",
              "      \n",
              "  <style>\n",
              "    .colab-df-container {\n",
              "      display:flex;\n",
              "      flex-wrap:wrap;\n",
              "      gap: 12px;\n",
              "    }\n",
              "\n",
              "    .colab-df-convert {\n",
              "      background-color: #E8F0FE;\n",
              "      border: none;\n",
              "      border-radius: 50%;\n",
              "      cursor: pointer;\n",
              "      display: none;\n",
              "      fill: #1967D2;\n",
              "      height: 32px;\n",
              "      padding: 0 0 0 0;\n",
              "      width: 32px;\n",
              "    }\n",
              "\n",
              "    .colab-df-convert:hover {\n",
              "      background-color: #E2EBFA;\n",
              "      box-shadow: 0px 1px 2px rgba(60, 64, 67, 0.3), 0px 1px 3px 1px rgba(60, 64, 67, 0.15);\n",
              "      fill: #174EA6;\n",
              "    }\n",
              "\n",
              "    [theme=dark] .colab-df-convert {\n",
              "      background-color: #3B4455;\n",
              "      fill: #D2E3FC;\n",
              "    }\n",
              "\n",
              "    [theme=dark] .colab-df-convert:hover {\n",
              "      background-color: #434B5C;\n",
              "      box-shadow: 0px 1px 3px 1px rgba(0, 0, 0, 0.15);\n",
              "      filter: drop-shadow(0px 1px 2px rgba(0, 0, 0, 0.3));\n",
              "      fill: #FFFFFF;\n",
              "    }\n",
              "  </style>\n",
              "\n",
              "      <script>\n",
              "        const buttonEl =\n",
              "          document.querySelector('#df-1ed7d6d9-6949-4b4f-88de-824e6d05ed05 button.colab-df-convert');\n",
              "        buttonEl.style.display =\n",
              "          google.colab.kernel.accessAllowed ? 'block' : 'none';\n",
              "\n",
              "        async function convertToInteractive(key) {\n",
              "          const element = document.querySelector('#df-1ed7d6d9-6949-4b4f-88de-824e6d05ed05');\n",
              "          const dataTable =\n",
              "            await google.colab.kernel.invokeFunction('convertToInteractive',\n",
              "                                                     [key], {});\n",
              "          if (!dataTable) return;\n",
              "\n",
              "          const docLinkHtml = 'Like what you see? Visit the ' +\n",
              "            '<a target=\"_blank\" href=https://colab.research.google.com/notebooks/data_table.ipynb>data table notebook</a>'\n",
              "            + ' to learn more about interactive tables.';\n",
              "          element.innerHTML = '';\n",
              "          dataTable['output_type'] = 'display_data';\n",
              "          await google.colab.output.renderOutput(dataTable, element);\n",
              "          const docLink = document.createElement('div');\n",
              "          docLink.innerHTML = docLinkHtml;\n",
              "          element.appendChild(docLink);\n",
              "        }\n",
              "      </script>\n",
              "    </div>\n",
              "  </div>\n",
              "  "
            ]
          },
          "metadata": {},
          "execution_count": 35
        }
      ]
    },
    {
      "cell_type": "code",
      "execution_count": 38,
      "metadata": {
        "id": "wNiy6c6qxgfc",
        "outputId": "0e84ffa9-37e8-4d14-d960-16047e37bcaf",
        "colab": {
          "base_uri": "https://localhost:8080/",
          "height": 1000
        }
      },
      "outputs": [
        {
          "output_type": "display_data",
          "data": {
            "text/plain": [
              "<Figure size 432x288 with 1 Axes>"
            ],
            "image/png": "[encoded data removed]"
          },
          "metadata": {
            "needs_background": "light"
          }
        },
        {
          "output_type": "display_data",
          "data": {
            "text/plain": [
              "<Figure size 432x288 with 1 Axes>"
            ],
            "image/png": "[encoded data removed]"
          },
          "metadata": {
            "needs_background": "light"
          }
        },
        {
          "output_type": "display_data",
          "data": {
            "text/plain": [
              "<Figure size 432x288 with 1 Axes>"
            ],
            "image/png": "[encoded data removed]"
          },
          "metadata": {
            "needs_background": "light"
          }
        },
        {
          "output_type": "display_data",
          "data": {
            "text/plain": [
              "<Figure size 432x288 with 1 Axes>"
            ],
            "image/png": "[encoded data removed]"
          },
          "metadata": {
            "needs_background": "light"
          }
        },
        {
          "output_type": "display_data",
          "data": {
            "text/plain": [
              "<Figure size 432x288 with 1 Axes>"
            ],
            "image/png": "[encoded data removed]"
          },
          "metadata": {
            "needs_background": "light"
          }
        },
        {
          "output_type": "display_data",
          "data": {
            "text/plain": [
              "<Figure size 432x288 with 1 Axes>"
            ],
            "image/png": "[encoded data removed]"
          },
          "metadata": {
            "needs_background": "light"
          }
        }
      ],
      "source": [
        "resultado.loc[\"Precision\", [\"LogisticRegressionTreino\", \"DecisionTreeClassifierTreino\", \"AdaBoostClassifierTreino\", \"RandomForestClassifierTreino\", \"GradientBoostingClassifierTreino\", \"SVMTreino\"]].sort_values(ascending = False).plot.bar(title = \" Desbalanceados - Precisão no Treino\")\n",
        "plt.show()\n",
        "resultado.loc[\"Recall\", [\"LogisticRegressionTreino\", \"DecisionTreeClassifierTreino\", \"AdaBoostClassifierTreino\", \"RandomForestClassifierTreino\", \"GradientBoostingClassifierTreino\", \"SVMTreino\"]].sort_values(ascending = False).plot.bar(title = \" Desbalanceados - Recall no Treino\" )\n",
        "plt.show()\n",
        "resultado.loc[\"F-Measure\",  [\"LogisticRegressionTreino\", \"DecisionTreeClassifierTreino\", \"AdaBoostClassifierTreino\", \"RandomForestClassifierTreino\", \"GradientBoostingClassifierTreino\", \"SVMTreino\"]].sort_values(ascending = False).plot.bar(title = \" Desbalanceados - F-Measure no Treino\")\n",
        "plt.show()\n",
        "resultado.loc[\"Precision\", [\"LogisticRegressionTeste\", \"DecisionTreeClassifierTeste\", \"AdaBoostClassifierTeste\", \"RandomForestClassifierTeste\", \"GradientBoostingClassifierTeste\", \"SVMTeste\"]].sort_values(ascending = False).plot.bar(title = \" Desbalanceados - Precisão no Teste\", color = \"red\")\n",
        "plt.show()\n",
        "resultado.loc[\"Recall\", [\"LogisticRegressionTeste\", \"DecisionTreeClassifierTeste\", \"AdaBoostClassifierTeste\", \"RandomForestClassifierTeste\", \"GradientBoostingClassifierTeste\", \"SVMTeste\"]].sort_values(ascending = False).plot.bar(title = \" Desbalanceados - Recall no Teste\", color = \"red\")\n",
        "plt.show()\n",
        "resultado.loc[\"F-Measure\", [\"LogisticRegressionTeste\", \"DecisionTreeClassifierTeste\", \"AdaBoostClassifierTeste\", \"RandomForestClassifierTeste\", \"GradientBoostingClassifierTeste\", \"SVMTeste\"]].sort_values(ascending = False).plot.bar(title = \"Desbalanceados - F-Measure no Teste\", color = \"red\")\n",
        "plt.show()"
      ]
    },
    {
      "cell_type": "markdown",
      "metadata": {
        "id": "gp7RlLOhxgfg"
      },
      "source": [
        "# Questão 4\n",
        "- P: 4 - Interprete as saídas dos modelos. Quais atributos parecem ser mais importantes de acordo com cada modelo? (10 pts.)\n",
        "### R: Com os dados desbalanceados temos no treino o efeito do \"paradoxo da acurácia\". Os dados são inconclusivos dado o desbalanceamento que fez com que os modelos DT e RF tivesse precisão máxima.\n",
        "### TODO: OS Atributos tem que ser idenficados"
      ]
    },
    {
      "cell_type": "markdown",
      "metadata": {
        "id": "MgCGaHV0xgfg"
      },
      "source": [
        "# Questão 6\n",
        "- P: 6 - Experimente outros modelos (e.g. SVM, RandomForests e GradientBoosting).\n",
        "### R: Os 3 modelos já foram utilizados vide acima"
      ]
    },
    {
      "cell_type": "code",
      "execution_count": 39,
      "metadata": {
        "id": "ZFASuDJqxgfg",
        "outputId": "ffdfe401-6051-4814-b16b-c5db40ae3323",
        "colab": {
          "base_uri": "https://localhost:8080/",
          "height": 324
        }
      },
      "outputs": [
        {
          "output_type": "execute_result",
          "data": {
            "text/plain": [
              "<matplotlib.axes._subplots.AxesSubplot at 0x7f8319d5c0d0>"
            ]
          },
          "metadata": {},
          "execution_count": 39
        },
        {
          "output_type": "display_data",
          "data": {
            "text/plain": [
              "<Figure size 432x288 with 1 Axes>"
            ],
            "image/png": "[encoded data removed]"
          },
          "metadata": {
            "needs_background": "light"
          }
        }
      ],
      "source": [
        "resultado.plot.bar()"
      ]
    },
    {
      "cell_type": "markdown",
      "metadata": {
        "id": "H2Et2u9Ixgfh"
      },
      "source": [
        "# Depois do balanceamento"
      ]
    },
    {
      "cell_type": "markdown",
      "metadata": {
        "id": "pH1fVz5exgfi"
      },
      "source": [
        "# Questão 7 \n",
        "- 7 - Experimente balancear as classes,  caso estejam desbalanceadas.\n",
        "### R: Foi realizado o Balanceamento com \"Under-Sampling\" da coluna \"situacao\" conforme resultados reportados abaixo.\n",
        "### Balenceamento das classe: Under-Sampling"
      ]
    },
    {
      "cell_type": "code",
      "execution_count": 4,
      "metadata": {
        "id": "5-4VYgJexgfi",
        "outputId": "09be02e0-4188-4392-d3e4-653294771eca",
        "colab": {
          "base_uri": "https://localhost:8080/"
        }
      },
      "outputs": [
        {
          "output_type": "stream",
          "name": "stdout",
          "text": [
            "0    831\n",
            "1    831\n",
            "dtype: int64\n"
          ]
        }
      ],
      "source": [
        "rus = RandomUnderSampler(random_state=42)\n",
        "x_res, y_res = rus.fit_resample(train_X, train_y)\n",
        "print(pd.Series(y_res).value_counts())\n",
        "#sns.countplot(x=y_res)"
      ]
    },
    {
      "cell_type": "code",
      "source": [
        "resultado = pd.DataFrame({\"Teste\": [0.5, 0.5, 0.5, 0.5]}, index = [\"Precision\", \"Recall\", \"F-Measure\",\"None\"])\n",
        "models = []\n",
        "names = []\n",
        "models.append((\"LogisticRegression\", LogisticRegression()))\n",
        "models.append((\"DecisionTreeClassifier\", tree.DecisionTreeClassifier())) ##\n",
        "models.append((\"AdaBoostClassifier\", AdaBoostClassifier())) ##\n",
        "models.append((\"RandomForestClassifier\", RandomForestClassifier())) ##\n",
        "models.append((\"GradientBoostingClassifier\", GradientBoostingClassifier())) ##\n",
        "models.append((\"SVM\", svm.SVC())) ##\n",
        "\n",
        "for name, model in models:\n",
        "    model.fit(x_res, y_res)\n",
        "    y_pred_train = model.predict(x_res)\n",
        "    y_pred_test = model.predict(test_X)\n",
        "\n",
        "    res =  precision_recall_fscore_support(y_res, y_pred_train, average=\"macro\")\n",
        "    resultado_df = pd.DataFrame(data = res, index= [\"Precision\", \"Recall\", \"F-Measure\",\"None\"], columns=[name + \"Treino\"])\n",
        "    extracted_col = resultado_df[name + \"Treino\"]\n",
        "\n",
        "    res2 =  precision_recall_fscore_support(test_y, y_pred_test, average=\"macro\")\n",
        "    resultado_df2 = pd.DataFrame(data = res2, index= [\"Precision\", \"Recall\", \"F-Measure\",\"None\"], columns=[name + \"Teste\"])\n",
        "    extracted_col2 = resultado_df2[name + \"Teste\"]\n",
        "\n",
        "    resultado = resultado.join(extracted_col)\n",
        "    resultado = resultado.join(extracted_col2)\n",
        "\n",
        "resultado"
      ],
      "metadata": {
        "colab": {
          "base_uri": "https://localhost:8080/",
          "height": 395
        },
        "id": "3HPnTJFUVwdO",
        "outputId": "595baa35-9eac-4693-bc5f-c7fcc8ebe493"
      },
      "execution_count": 5,
      "outputs": [
        {
          "output_type": "stream",
          "name": "stderr",
          "text": [
            "/usr/local/lib/python3.7/dist-packages/sklearn/linear_model/_logistic.py:818: ConvergenceWarning: lbfgs failed to converge (status=1):\n",
            "STOP: TOTAL NO. of ITERATIONS REACHED LIMIT.\n",
            "\n",
            "Increase the number of iterations (max_iter) or scale the data as shown in:\n",
            "    https://scikit-learn.org/stable/modules/preprocessing.html\n",
            "Please also refer to the documentation for alternative solver options:\n",
            "    https://scikit-learn.org/stable/modules/linear_model.html#logistic-regression\n",
            "  extra_warning_msg=_LOGISTIC_SOLVER_CONVERGENCE_MSG,\n"
          ]
        },
        {
          "output_type": "execute_result",
          "data": {
            "text/plain": [
              "           Teste  LogisticRegressionTreino  LogisticRegressionTeste  \\\n",
              "Precision    0.5                  0.895694                 0.700190   \n",
              "Recall       0.5                  0.886883                 0.875795   \n",
              "F-Measure    0.5                  0.886250                 0.728237   \n",
              "None         0.5                       NaN                      NaN   \n",
              "\n",
              "           DecisionTreeClassifierTreino  DecisionTreeClassifierTeste  \\\n",
              "Precision                           1.0                     0.733911   \n",
              "Recall                              1.0                     0.867168   \n",
              "F-Measure                           1.0                     0.772724   \n",
              "None                                NaN                          NaN   \n",
              "\n",
              "           AdaBoostClassifierTreino  AdaBoostClassifierTeste  \\\n",
              "Precision                  0.933774                 0.756675   \n",
              "Recall                     0.932010                 0.908637   \n",
              "F-Measure                  0.931940                 0.800623   \n",
              "None                            NaN                      NaN   \n",
              "\n",
              "           RandomForestClassifierTreino  RandomForestClassifierTeste  \\\n",
              "Precision                      0.999399                     0.750619   \n",
              "Recall                         0.999398                     0.911442   \n",
              "F-Measure                      0.999398                     0.794152   \n",
              "None                                NaN                          NaN   \n",
              "\n",
              "           GradientBoostingClassifierTreino  GradientBoostingClassifierTeste  \\\n",
              "Precision                          0.958396                         0.760461   \n",
              "Recall                             0.957280                         0.910517   \n",
              "F-Measure                          0.957254                         0.804794   \n",
              "None                                    NaN                              NaN   \n",
              "\n",
              "           SVMTreino  SVMTeste  \n",
              "Precision   0.905795  0.760650  \n",
              "Recall      0.905535  0.896327  \n",
              "F-Measure   0.905520  0.803281  \n",
              "None             NaN       NaN  "
            ],
            "text/html": [
              "\n",
              "  <div id=\"df-a6c65f63-78b0-4d31-a666-d11b459f69ca\">\n",
              "    <div class=\"colab-df-container\">\n",
              "      <div>\n",
              "<style scoped>\n",
              "    .dataframe tbody tr th:only-of-type {\n",
              "        vertical-align: middle;\n",
              "    }\n",
              "\n",
              "    .dataframe tbody tr th {\n",
              "        vertical-align: top;\n",
              "    }\n",
              "\n",
              "    .dataframe thead th {\n",
              "        text-align: right;\n",
              "    }\n",
              "</style>\n",
              "<table border=\"1\" class=\"dataframe\">\n",
              "  <thead>\n",
              "    <tr style=\"text-align: right;\">\n",
              "      <th></th>\n",
              "      <th>Teste</th>\n",
              "      <th>LogisticRegressionTreino</th>\n",
              "      <th>LogisticRegressionTeste</th>\n",
              "      <th>DecisionTreeClassifierTreino</th>\n",
              "      <th>DecisionTreeClassifierTeste</th>\n",
              "      <th>AdaBoostClassifierTreino</th>\n",
              "      <th>AdaBoostClassifierTeste</th>\n",
              "      <th>RandomForestClassifierTreino</th>\n",
              "      <th>RandomForestClassifierTeste</th>\n",
              "      <th>GradientBoostingClassifierTreino</th>\n",
              "      <th>GradientBoostingClassifierTeste</th>\n",
              "      <th>SVMTreino</th>\n",
              "      <th>SVMTeste</th>\n",
              "    </tr>\n",
              "  </thead>\n",
              "  <tbody>\n",
              "    <tr>\n",
              "      <th>Precision</th>\n",
              "      <td>0.5</td>\n",
              "      <td>0.895694</td>\n",
              "      <td>0.700190</td>\n",
              "      <td>1.0</td>\n",
              "      <td>0.733911</td>\n",
              "      <td>0.933774</td>\n",
              "      <td>0.756675</td>\n",
              "      <td>0.999399</td>\n",
              "      <td>0.750619</td>\n",
              "      <td>0.958396</td>\n",
              "      <td>0.760461</td>\n",
              "      <td>0.905795</td>\n",
              "      <td>0.760650</td>\n",
              "    </tr>\n",
              "    <tr>\n",
              "      <th>Recall</th>\n",
              "      <td>0.5</td>\n",
              "      <td>0.886883</td>\n",
              "      <td>0.875795</td>\n",
              "      <td>1.0</td>\n",
              "      <td>0.867168</td>\n",
              "      <td>0.932010</td>\n",
              "      <td>0.908637</td>\n",
              "      <td>0.999398</td>\n",
              "      <td>0.911442</td>\n",
              "      <td>0.957280</td>\n",
              "      <td>0.910517</td>\n",
              "      <td>0.905535</td>\n",
              "      <td>0.896327</td>\n",
              "    </tr>\n",
              "    <tr>\n",
              "      <th>F-Measure</th>\n",
              "      <td>0.5</td>\n",
              "      <td>0.886250</td>\n",
              "      <td>0.728237</td>\n",
              "      <td>1.0</td>\n",
              "      <td>0.772724</td>\n",
              "      <td>0.931940</td>\n",
              "      <td>0.800623</td>\n",
              "      <td>0.999398</td>\n",
              "      <td>0.794152</td>\n",
              "      <td>0.957254</td>\n",
              "      <td>0.804794</td>\n",
              "      <td>0.905520</td>\n",
              "      <td>0.803281</td>\n",
              "    </tr>\n",
              "    <tr>\n",
              "      <th>None</th>\n",
              "      <td>0.5</td>\n",
              "      <td>NaN</td>\n",
              "      <td>NaN</td>\n",
              "      <td>NaN</td>\n",
              "      <td>NaN</td>\n",
              "      <td>NaN</td>\n",
              "      <td>NaN</td>\n",
              "      <td>NaN</td>\n",
              "      <td>NaN</td>\n",
              "      <td>NaN</td>\n",
              "      <td>NaN</td>\n",
              "      <td>NaN</td>\n",
              "      <td>NaN</td>\n",
              "    </tr>\n",
              "  </tbody>\n",
              "</table>\n",
              "</div>\n",
              "      <button class=\"colab-df-convert\" onclick=\"convertToInteractive('df-a6c65f63-78b0-4d31-a666-d11b459f69ca')\"\n",
              "              title=\"Convert this dataframe to an interactive table.\"\n",
              "              style=\"display:none;\">\n",
              "        \n",
              "  <svg xmlns=\"http://www.w3.org/2000/svg\" height=\"24px\"viewBox=\"0 0 24 24\"\n",
              "       width=\"24px\">\n",
              "    <path d=\"M0 0h24v24H0V0z\" fill=\"none\"/>\n",
              "    <path d=\"M18.56 5.44l.94 2.06.94-2.06 2.06-.94-2.06-.94-.94-2.06-.94 2.06-2.06.94zm-11 1L8.5 8.5l.94-2.06 2.06-.94-2.06-.94L8.5 2.5l-.94 2.06-2.06.94zm10 10l.94 2.06.94-2.06 2.06-.94-2.06-.94-.94-2.06-.94 2.06-2.06.94z\"/><path d=\"M17.41 7.96l-1.37-1.37c-.4-.4-.92-.59-1.43-.59-.52 0-1.04.2-1.43.59L10.3 9.45l-7.72 7.72c-.78.78-.78 2.05 0 2.83L4 21.41c.39.39.9.59 1.41.59.51 0 1.02-.2 1.41-.59l7.78-7.78 2.81-2.81c.8-.78.8-2.07 0-2.86zM5.41 20L4 18.59l7.72-7.72 1.47 1.35L5.41 20z\"/>\n",
              "  </svg>\n",
              "      </button>\n",
              "      \n",
              "  <style>\n",
              "    .colab-df-container {\n",
              "      display:flex;\n",
              "      flex-wrap:wrap;\n",
              "      gap: 12px;\n",
              "    }\n",
              "\n",
              "    .colab-df-convert {\n",
              "      background-color: #E8F0FE;\n",
              "      border: none;\n",
              "      border-radius: 50%;\n",
              "      cursor: pointer;\n",
              "      display: none;\n",
              "      fill: #1967D2;\n",
              "      height: 32px;\n",
              "      padding: 0 0 0 0;\n",
              "      width: 32px;\n",
              "    }\n",
              "\n",
              "    .colab-df-convert:hover {\n",
              "      background-color: #E2EBFA;\n",
              "      box-shadow: 0px 1px 2px rgba(60, 64, 67, 0.3), 0px 1px 3px 1px rgba(60, 64, 67, 0.15);\n",
              "      fill: #174EA6;\n",
              "    }\n",
              "\n",
              "    [theme=dark] .colab-df-convert {\n",
              "      background-color: #3B4455;\n",
              "      fill: #D2E3FC;\n",
              "    }\n",
              "\n",
              "    [theme=dark] .colab-df-convert:hover {\n",
              "      background-color: #434B5C;\n",
              "      box-shadow: 0px 1px 3px 1px rgba(0, 0, 0, 0.15);\n",
              "      filter: drop-shadow(0px 1px 2px rgba(0, 0, 0, 0.3));\n",
              "      fill: #FFFFFF;\n",
              "    }\n",
              "  </style>\n",
              "\n",
              "      <script>\n",
              "        const buttonEl =\n",
              "          document.querySelector('#df-a6c65f63-78b0-4d31-a666-d11b459f69ca button.colab-df-convert');\n",
              "        buttonEl.style.display =\n",
              "          google.colab.kernel.accessAllowed ? 'block' : 'none';\n",
              "\n",
              "        async function convertToInteractive(key) {\n",
              "          const element = document.querySelector('#df-a6c65f63-78b0-4d31-a666-d11b459f69ca');\n",
              "          const dataTable =\n",
              "            await google.colab.kernel.invokeFunction('convertToInteractive',\n",
              "                                                     [key], {});\n",
              "          if (!dataTable) return;\n",
              "\n",
              "          const docLinkHtml = 'Like what you see? Visit the ' +\n",
              "            '<a target=\"_blank\" href=https://colab.research.google.com/notebooks/data_table.ipynb>data table notebook</a>'\n",
              "            + ' to learn more about interactive tables.';\n",
              "          element.innerHTML = '';\n",
              "          dataTable['output_type'] = 'display_data';\n",
              "          await google.colab.output.renderOutput(dataTable, element);\n",
              "          const docLink = document.createElement('div');\n",
              "          docLink.innerHTML = docLinkHtml;\n",
              "          element.appendChild(docLink);\n",
              "        }\n",
              "      </script>\n",
              "    </div>\n",
              "  </div>\n",
              "  "
            ]
          },
          "metadata": {},
          "execution_count": 5
        }
      ]
    },
    {
      "cell_type": "code",
      "source": [
        "resultado.plot.bar()"
      ],
      "metadata": {
        "colab": {
          "base_uri": "https://localhost:8080/",
          "height": 324
        },
        "id": "qOibRsPCsGQv",
        "outputId": "2c8c639f-c8af-4008-a74c-450fe3c7a53b"
      },
      "execution_count": 45,
      "outputs": [
        {
          "output_type": "execute_result",
          "data": {
            "text/plain": [
              "<matplotlib.axes._subplots.AxesSubplot at 0x7f8319da8a90>"
            ]
          },
          "metadata": {},
          "execution_count": 45
        },
        {
          "output_type": "display_data",
          "data": {
            "text/plain": [
              "<Figure size 432x288 with 1 Axes>"
            ],
            "image/png": "[encoded data removed]"
          },
          "metadata": {
            "needs_background": "light"
          }
        }
      ]
    },
    {
      "cell_type": "code",
      "source": [
        "resultado.loc[\"Precision\", [\"LogisticRegressionTreino\", \"DecisionTreeClassifierTreino\", \"AdaBoostClassifierTreino\", \"RandomForestClassifierTreino\", \"GradientBoostingClassifierTreino\", \"SVMTreino\"]].sort_values(ascending = False).plot.bar(title = \" Desbalanceados - Precisão no Treino\")\n",
        "plt.show()\n",
        "resultado.loc[\"Recall\", [\"LogisticRegressionTreino\", \"DecisionTreeClassifierTreino\", \"AdaBoostClassifierTreino\", \"RandomForestClassifierTreino\", \"GradientBoostingClassifierTreino\", \"SVMTreino\"]].sort_values(ascending = False).plot.bar(title = \" Desbalanceados - Recall no Treino\" )\n",
        "plt.show()\n",
        "resultado.loc[\"F-Measure\",  [\"LogisticRegressionTreino\", \"DecisionTreeClassifierTreino\", \"AdaBoostClassifierTreino\", \"RandomForestClassifierTreino\", \"GradientBoostingClassifierTreino\", \"SVMTreino\"]].sort_values(ascending = False).plot.bar(title = \" Desbalanceados - F-Measure no Treino\")\n",
        "plt.show()\n",
        "resultado.loc[\"Precision\", [\"LogisticRegressionTeste\", \"DecisionTreeClassifierTeste\", \"AdaBoostClassifierTeste\", \"RandomForestClassifierTeste\", \"GradientBoostingClassifierTeste\", \"SVMTeste\"]].sort_values(ascending = False).plot.bar(title = \" Desbalanceados - Precisão no Teste\", color = \"red\")\n",
        "plt.show()\n",
        "resultado.loc[\"Recall\", [\"LogisticRegressionTeste\", \"DecisionTreeClassifierTeste\", \"AdaBoostClassifierTeste\", \"RandomForestClassifierTeste\", \"GradientBoostingClassifierTeste\", \"SVMTeste\"]].sort_values(ascending = False).plot.bar(title = \" Desbalanceados - Recall no Teste\", color = \"red\")\n",
        "plt.show()\n",
        "resultado.loc[\"F-Measure\", [\"LogisticRegressionTeste\", \"DecisionTreeClassifierTeste\", \"AdaBoostClassifierTeste\", \"RandomForestClassifierTeste\", \"GradientBoostingClassifierTeste\", \"SVMTeste\"]].sort_values(ascending = False).plot.bar(title = \"Desbalanceados - F-Measure no Teste\", color = \"red\")\n",
        "plt.show()"
      ],
      "metadata": {
        "colab": {
          "base_uri": "https://localhost:8080/",
          "height": 1000
        },
        "id": "11FuMYFBst59",
        "outputId": "b8c40d5e-731f-4d48-9d3d-f0db40499195"
      },
      "execution_count": 6,
      "outputs": [
        {
          "output_type": "display_data",
          "data": {
            "text/plain": [
              "<Figure size 432x288 with 1 Axes>"
            ],
            "image/png": "[encoded data removed]"
          },
          "metadata": {
            "needs_background": "light"
          }
        },
        {
          "output_type": "display_data",
          "data": {
            "text/plain": [
              "<Figure size 432x288 with 1 Axes>"
            ],
            "image/png": "[encoded data removed]"
          },
          "metadata": {
            "needs_background": "light"
          }
        },
        {
          "output_type": "display_data",
          "data": {
            "text/plain": [
              "<Figure size 432x288 with 1 Axes>"
            ],
            "image/png": "[encoded data removed]"
          },
          "metadata": {
            "needs_background": "light"
          }
        },
        {
          "output_type": "display_data",
          "data": {
            "text/plain": [
              "<Figure size 432x288 with 1 Axes>"
            ],
            "image/png": "[encoded data removed]"
          },
          "metadata": {
            "needs_background": "light"
          }
        },
        {
          "output_type": "display_data",
          "data": {
            "text/plain": [
              "<Figure size 432x288 with 1 Axes>"
            ],
            "image/png": "[encoded data removed]"
          },
          "metadata": {
            "needs_background": "light"
          }
        },
        {
          "output_type": "display_data",
          "data": {
            "text/plain": [
              "<Figure size 432x288 with 1 Axes>"
            ],
            "image/png": "[encoded data removed]"
          },
          "metadata": {
            "needs_background": "light"
          }
        }
      ]
    },
    {
      "cell_type": "markdown",
      "source": [
        "- R: Decision Tree e Randon Forest foram melhores na métrica \"Precisão\" mas isso pode ser efeito do \"paradoxo da acurácia\" por causa dos dados desbalanceados no Treino\n",
        "- R: Decision Tree e Randon Forest foram melhores na métrica \"Recall\" mas isso pode ser efeito do \"paradoxo da acurácia\" por causa dos dados desbalanceados no Treino\n",
        "- R: Decision Tree e Randon Forest foram melhores na métrica \"F-Measure\" mas isso pode ser efeito do \"paradoxo da acurácia\" por causa dos dados desbalanceados no Treino\n",
        "- R: SVM foi melhor para \"Precision\" para os dados desbalanceados no Teste\n",
        "- R: Random Forest foi melhor no Teste para \"Recall\" para os dados desbalanceados no Teste\n",
        "- R: Gradient Boost foi melhor no Teste para \"F-Measure\" para os dados desbalanceados no Teste"
      ],
      "metadata": {
        "id": "yq76XRBztMb1"
      }
    },
    {
      "cell_type": "markdown",
      "metadata": {
        "id": "Id98cWDvxgft"
      },
      "source": [
        "# Questão 4\n",
        "- 4 - Interprete as saídas dos modelos. Quais atributos parecem ser mais importantes de acordo com cada modelo? (10 pts.)\n",
        "### R: Depois do Balanceamento: \"Randon Forest\" no \"Treino\" teve uma melhor Precisão, Recall e F-Measure. Já \"Gradient Boost\" teve melhor Precisão, Recall e F-Measure no \"Test\".\n"
      ]
    },
    {
      "cell_type": "markdown",
      "source": [
        "# Questão 5\n",
        "- 5 - Envie seus melhores modelos conforme resultados nos dados de teste. Sugestões para melhorar o modelo: (10 pts.)\n",
        "### R: O Melhor modelo é o Decision Tree no Treino e o SVM no Test, depois do balanceamento, conforme tabela abaixo. \n",
        "### R: Sugestão 1: Uma sugestão para melhorar o modelo é no lugar de utilizar dummies, utilizar one-hot enconding e compara o resultado.\n",
        "### R: Sugestão 2: Uma sugestão é normalizar as features preditoras."
      ],
      "metadata": {
        "id": "BGYRa_I6I-Ln"
      }
    },
    {
      "cell_type": "markdown",
      "metadata": {
        "id": "gVy7FI0exgft"
      },
      "source": [
        "# Resultado do Melhor Modelo, Gradient Boost com todos os dados para gerar os resultados da submissão\n",
        "### R: Logo o Gradient Boost teve o melhor resultado para o F-Measure nos dados do Teste depois do balanceamento, portanto sendo o algoritmo escolhido.\n",
        "\n",
        "### Arquivo com a predição : Gerando o arquivo result submission com o resultado da predição dos anos de 2014"
      ]
    },
    {
      "cell_type": "code",
      "execution_count": 44,
      "metadata": {
        "id": "GCrlLb53xgfu",
        "outputId": "87410e6d-81b9-47b8-e011-6abec53a9895",
        "colab": {
          "base_uri": "https://localhost:8080/"
        }
      },
      "outputs": [
        {
          "output_type": "stream",
          "name": "stderr",
          "text": [
            "/usr/local/lib/python3.7/dist-packages/sklearn/ensemble/_gb.py:494: DataConversionWarning: A column-vector y was passed when a 1d array was expected. Please change the shape of y to (n_samples, ), for example using ravel().\n",
            "  y = column_or_1d(y, warn=True)\n"
          ]
        }
      ],
      "source": [
        "#treinando com todo os dados de teste reais\n",
        "clf = GradientBoostingClassifier(learning_rate = 0.2, n_estimators = 10)\n",
        "clf.fit(df_tudo_train_X, df_tudo_train_y)\n",
        "y_pred_test_final = clf.predict(test_X_final)\n",
        "\n",
        "panda_df = pd.DataFrame(data = y_pred_test_final.astype(str), columns = [\"situacao\"])\n",
        "panda_df[\"situacao\"] = panda_df[\"situacao\"].apply(lambda x: x.replace('0','eleito').replace('1', 'nao_eleito'))\n",
        "df_test_real__ = pd.read_csv(\"/content/drive/MyDrive/AA DATA2/test_real.csv\") \n",
        "solution = pd.DataFrame({\"ID\": df_test_real__.sequencial_candidato,\"Predicted\": panda_df[\"situacao\"].astype(str)})\n",
        "solution.to_csv(\"result_submission.csv\", index=False)"
      ]
    },
    {
      "cell_type": "markdown",
      "metadata": {
        "id": "bQgHmpV1xgfw"
      },
      "source": [
        "# Tunagem de Hyperparâmetros dos modelos para identificar os melhores parâmetros\n"
      ]
    },
    {
      "cell_type": "markdown",
      "source": [
        "## AdaBoost"
      ],
      "metadata": {
        "id": "Xj6HQQsk12L1"
      }
    },
    {
      "cell_type": "code",
      "execution_count": 32,
      "metadata": {
        "id": "Cew4ypmexgfw",
        "outputId": "38b0e68d-3a1c-4ee3-edbd-638f2a483ad3",
        "colab": {
          "base_uri": "https://localhost:8080/",
          "height": 332
        }
      },
      "outputs": [
        {
          "output_type": "execute_result",
          "data": {
            "text/plain": [
              "                                       params  rank_test_score  \\\n",
              "0   {'learning_rate': 0.1, 'n_estimators': 1}                1   \n",
              "1   {'learning_rate': 0.1, 'n_estimators': 5}                4   \n",
              "2  {'learning_rate': 0.1, 'n_estimators': 10}                6   \n",
              "3     {'learning_rate': 1, 'n_estimators': 1}                1   \n",
              "4     {'learning_rate': 1, 'n_estimators': 5}                7   \n",
              "5    {'learning_rate': 1, 'n_estimators': 10}                8   \n",
              "6     {'learning_rate': 2, 'n_estimators': 1}                1   \n",
              "7     {'learning_rate': 2, 'n_estimators': 5}                5   \n",
              "8    {'learning_rate': 2, 'n_estimators': 10}                9   \n",
              "\n",
              "   mean_test_score  \n",
              "0         0.975926  \n",
              "1         0.975778  \n",
              "2         0.969314  \n",
              "3         0.975926  \n",
              "4         0.968406  \n",
              "5         0.954931  \n",
              "6         0.975926  \n",
              "7         0.971899  \n",
              "8         0.422013  "
            ],
            "text/html": [
              "\n",
              "  <div id=\"df-98126e20-4ab2-43e3-854f-0352e134973c\">\n",
              "    <div class=\"colab-df-container\">\n",
              "      <div>\n",
              "<style scoped>\n",
              "    .dataframe tbody tr th:only-of-type {\n",
              "        vertical-align: middle;\n",
              "    }\n",
              "\n",
              "    .dataframe tbody tr th {\n",
              "        vertical-align: top;\n",
              "    }\n",
              "\n",
              "    .dataframe thead th {\n",
              "        text-align: right;\n",
              "    }\n",
              "</style>\n",
              "<table border=\"1\" class=\"dataframe\">\n",
              "  <thead>\n",
              "    <tr style=\"text-align: right;\">\n",
              "      <th></th>\n",
              "      <th>params</th>\n",
              "      <th>rank_test_score</th>\n",
              "      <th>mean_test_score</th>\n",
              "    </tr>\n",
              "  </thead>\n",
              "  <tbody>\n",
              "    <tr>\n",
              "      <th>0</th>\n",
              "      <td>{'learning_rate': 0.1, 'n_estimators': 1}</td>\n",
              "      <td>1</td>\n",
              "      <td>0.975926</td>\n",
              "    </tr>\n",
              "    <tr>\n",
              "      <th>1</th>\n",
              "      <td>{'learning_rate': 0.1, 'n_estimators': 5}</td>\n",
              "      <td>4</td>\n",
              "      <td>0.975778</td>\n",
              "    </tr>\n",
              "    <tr>\n",
              "      <th>2</th>\n",
              "      <td>{'learning_rate': 0.1, 'n_estimators': 10}</td>\n",
              "      <td>6</td>\n",
              "      <td>0.969314</td>\n",
              "    </tr>\n",
              "    <tr>\n",
              "      <th>3</th>\n",
              "      <td>{'learning_rate': 1, 'n_estimators': 1}</td>\n",
              "      <td>1</td>\n",
              "      <td>0.975926</td>\n",
              "    </tr>\n",
              "    <tr>\n",
              "      <th>4</th>\n",
              "      <td>{'learning_rate': 1, 'n_estimators': 5}</td>\n",
              "      <td>7</td>\n",
              "      <td>0.968406</td>\n",
              "    </tr>\n",
              "    <tr>\n",
              "      <th>5</th>\n",
              "      <td>{'learning_rate': 1, 'n_estimators': 10}</td>\n",
              "      <td>8</td>\n",
              "      <td>0.954931</td>\n",
              "    </tr>\n",
              "    <tr>\n",
              "      <th>6</th>\n",
              "      <td>{'learning_rate': 2, 'n_estimators': 1}</td>\n",
              "      <td>1</td>\n",
              "      <td>0.975926</td>\n",
              "    </tr>\n",
              "    <tr>\n",
              "      <th>7</th>\n",
              "      <td>{'learning_rate': 2, 'n_estimators': 5}</td>\n",
              "      <td>5</td>\n",
              "      <td>0.971899</td>\n",
              "    </tr>\n",
              "    <tr>\n",
              "      <th>8</th>\n",
              "      <td>{'learning_rate': 2, 'n_estimators': 10}</td>\n",
              "      <td>9</td>\n",
              "      <td>0.422013</td>\n",
              "    </tr>\n",
              "  </tbody>\n",
              "</table>\n",
              "</div>\n",
              "      <button class=\"colab-df-convert\" onclick=\"convertToInteractive('df-98126e20-4ab2-43e3-854f-0352e134973c')\"\n",
              "              title=\"Convert this dataframe to an interactive table.\"\n",
              "              style=\"display:none;\">\n",
              "        \n",
              "  <svg xmlns=\"http://www.w3.org/2000/svg\" height=\"24px\"viewBox=\"0 0 24 24\"\n",
              "       width=\"24px\">\n",
              "    <path d=\"M0 0h24v24H0V0z\" fill=\"none\"/>\n",
              "    <path d=\"M18.56 5.44l.94 2.06.94-2.06 2.06-.94-2.06-.94-.94-2.06-.94 2.06-2.06.94zm-11 1L8.5 8.5l.94-2.06 2.06-.94-2.06-.94L8.5 2.5l-.94 2.06-2.06.94zm10 10l.94 2.06.94-2.06 2.06-.94-2.06-.94-.94-2.06-.94 2.06-2.06.94z\"/><path d=\"M17.41 7.96l-1.37-1.37c-.4-.4-.92-.59-1.43-.59-.52 0-1.04.2-1.43.59L10.3 9.45l-7.72 7.72c-.78.78-.78 2.05 0 2.83L4 21.41c.39.39.9.59 1.41.59.51 0 1.02-.2 1.41-.59l7.78-7.78 2.81-2.81c.8-.78.8-2.07 0-2.86zM5.41 20L4 18.59l7.72-7.72 1.47 1.35L5.41 20z\"/>\n",
              "  </svg>\n",
              "      </button>\n",
              "      \n",
              "  <style>\n",
              "    .colab-df-container {\n",
              "      display:flex;\n",
              "      flex-wrap:wrap;\n",
              "      gap: 12px;\n",
              "    }\n",
              "\n",
              "    .colab-df-convert {\n",
              "      background-color: #E8F0FE;\n",
              "      border: none;\n",
              "      border-radius: 50%;\n",
              "      cursor: pointer;\n",
              "      display: none;\n",
              "      fill: #1967D2;\n",
              "      height: 32px;\n",
              "      padding: 0 0 0 0;\n",
              "      width: 32px;\n",
              "    }\n",
              "\n",
              "    .colab-df-convert:hover {\n",
              "      background-color: #E2EBFA;\n",
              "      box-shadow: 0px 1px 2px rgba(60, 64, 67, 0.3), 0px 1px 3px 1px rgba(60, 64, 67, 0.15);\n",
              "      fill: #174EA6;\n",
              "    }\n",
              "\n",
              "    [theme=dark] .colab-df-convert {\n",
              "      background-color: #3B4455;\n",
              "      fill: #D2E3FC;\n",
              "    }\n",
              "\n",
              "    [theme=dark] .colab-df-convert:hover {\n",
              "      background-color: #434B5C;\n",
              "      box-shadow: 0px 1px 3px 1px rgba(0, 0, 0, 0.15);\n",
              "      filter: drop-shadow(0px 1px 2px rgba(0, 0, 0, 0.3));\n",
              "      fill: #FFFFFF;\n",
              "    }\n",
              "  </style>\n",
              "\n",
              "      <script>\n",
              "        const buttonEl =\n",
              "          document.querySelector('#df-98126e20-4ab2-43e3-854f-0352e134973c button.colab-df-convert');\n",
              "        buttonEl.style.display =\n",
              "          google.colab.kernel.accessAllowed ? 'block' : 'none';\n",
              "\n",
              "        async function convertToInteractive(key) {\n",
              "          const element = document.querySelector('#df-98126e20-4ab2-43e3-854f-0352e134973c');\n",
              "          const dataTable =\n",
              "            await google.colab.kernel.invokeFunction('convertToInteractive',\n",
              "                                                     [key], {});\n",
              "          if (!dataTable) return;\n",
              "\n",
              "          const docLinkHtml = 'Like what you see? Visit the ' +\n",
              "            '<a target=\"_blank\" href=https://colab.research.google.com/notebooks/data_table.ipynb>data table notebook</a>'\n",
              "            + ' to learn more about interactive tables.';\n",
              "          element.innerHTML = '';\n",
              "          dataTable['output_type'] = 'display_data';\n",
              "          await google.colab.output.renderOutput(dataTable, element);\n",
              "          const docLink = document.createElement('div');\n",
              "          docLink.innerHTML = docLinkHtml;\n",
              "          element.appendChild(docLink);\n",
              "        }\n",
              "      </script>\n",
              "    </div>\n",
              "  </div>\n",
              "  "
            ]
          },
          "metadata": {},
          "execution_count": 32
        }
      ],
      "source": [
        "clf = AdaBoostClassifier()\n",
        "parametros = {'n_estimators':[1, 5, 10],\n",
        "              'learning_rate':[0.1, 1, 2]}\n",
        "grid = GridSearchCV(estimator = clf,\n",
        "                    param_grid = parametros,\n",
        "                    scoring = \"precision\",\n",
        "                    cv = 20)\n",
        "grid.fit(train_X, train_y)\n",
        "pd.DataFrame(grid.cv_results_)\n",
        "pd.DataFrame(grid.cv_results_)[['params','rank_test_score','mean_test_score'].so]"
      ]
    },
    {
      "cell_type": "code",
      "source": [
        "clf = AdaBoostClassifier(n_estimators=1, learning_rate=1) # {'learning_rate': 1, 'n_estimators': 1}\t1\t0.975926\n",
        "clf.fit(train_X, train_y)\n",
        "y_pred = clf.predict(test_X)\n",
        "print(classification_report(test_y, y_pred))"
      ],
      "metadata": {
        "colab": {
          "base_uri": "https://localhost:8080/"
        },
        "id": "8VSV8jiLlZI9",
        "outputId": "5f583b08-aca2-4e9e-831b-7cfe633e749a"
      },
      "execution_count": 35,
      "outputs": [
        {
          "output_type": "stream",
          "name": "stdout",
          "text": [
            "              precision    recall  f1-score   support\n",
            "\n",
            "           0       0.55      0.90      0.68       205\n",
            "           1       0.98      0.89      0.93      1320\n",
            "\n",
            "    accuracy                           0.89      1525\n",
            "   macro avg       0.77      0.89      0.81      1525\n",
            "weighted avg       0.92      0.89      0.90      1525\n",
            "\n"
          ]
        }
      ]
    },
    {
      "cell_type": "code",
      "source": [
        "y_pred_prob = clf.predict_proba(test_X)\n",
        "probs = y_pred_prob[:, 1]\n",
        "rfp, rvp, lim = roc_curve(test_y, probs)\n",
        "plt.plot(rfp, rvp, marker = '.', label='AdaBoost', color=\"orange\")\n",
        "plt.plot([0, 1], [0, 1], color = 'darkblue', linestyle='--')\n",
        "plt.xlabel(\"Especificidade\")\n",
        "plt.ylabel(\"Sensibilidade\")\n",
        "plt.legend()\n",
        "plt.show()"
      ],
      "metadata": {
        "colab": {
          "base_uri": "https://localhost:8080/",
          "height": 279
        },
        "id": "dLRWVZLnuatd",
        "outputId": "2c5d38d9-80de-4e09-f452-b769126d866e"
      },
      "execution_count": 37,
      "outputs": [
        {
          "output_type": "display_data",
          "data": {
            "text/plain": [
              "<Figure size 432x288 with 1 Axes>"
            ],
            "image/png": "[encoded data removed]"
          },
          "metadata": {
            "needs_background": "light"
          }
        }
      ]
    },
    {
      "cell_type": "code",
      "source": [
        "clf.best_params_"
      ],
      "metadata": {
        "id": "IFV9qnYU1XqD"
      },
      "execution_count": null,
      "outputs": []
    },
    {
      "cell_type": "markdown",
      "source": [
        "## Gradient Boosting\n",
        "https://www.kaggle.com/code/enespolat/grid-search-with-logistic-regression\n"
      ],
      "metadata": {
        "id": "vwoyh_O-0Oy3"
      }
    },
    {
      "cell_type": "code",
      "source": [
        "clf = GradientBoostingClassifier()\n",
        "\n",
        "#parametros = {\n",
        "#    \"loss\":[\"deviance\"],\n",
        "#    \"learning_rate\": [0.01, 0.025, 0.05, 0.075, 0.1, 0.15, 0.2],\n",
        "#    \"min_samples_split\": np.linspace(0.1, 0.5, 12),\n",
        "#    \"min_samples_leaf\": np.linspace(0.1, 0.5, 12),\n",
        "#    \"max_depth\":[3,5,8],\n",
        "#    \"max_features\":[\"log2\",\"sqrt\"],\n",
        "#    \"criterion\": [\"friedman_mse\",  \"mae\"],\n",
        "#    \"subsample\":[0.5, 0.618, 0.8, 0.85, 0.9, 0.95, 1.0],\n",
        "#    \"n_estimators\":[10]\n",
        "#    }\n",
        "\n",
        "parametros = {\n",
        "    \"learning_rate\": [0.01, 0.025, 0.05, 0.075, 0.1, 0.15, 0.2],\n",
        "    \"n_estimators\":[10]\n",
        "    }\n",
        "grid = GridSearchCV(estimator = clf,\n",
        "                    param_grid = parametros,\n",
        "                    scoring = \"precision\",\n",
        "                    cv = 10)\n",
        "\n",
        "grid.fit(train_X, train_y)"
      ],
      "metadata": {
        "colab": {
          "base_uri": "https://localhost:8080/"
        },
        "id": "LtHXa8yDy4RY",
        "outputId": "48f8d2a3-dfcb-489f-ba0e-9da424acb6c1"
      },
      "execution_count": 11,
      "outputs": [
        {
          "output_type": "execute_result",
          "data": {
            "text/plain": [
              "GridSearchCV(cv=10, estimator=GradientBoostingClassifier(),\n",
              "             param_grid={'learning_rate': [0.01, 0.025, 0.05, 0.075, 0.1, 0.15,\n",
              "                                           0.2],\n",
              "                         'n_estimators': [10]},\n",
              "             scoring='precision')"
            ]
          },
          "metadata": {},
          "execution_count": 11
        }
      ]
    },
    {
      "cell_type": "code",
      "source": [
        "y_pred = grid.predict(test_X)\n",
        "print(classification_report(test_y, y_pred))"
      ],
      "metadata": {
        "colab": {
          "base_uri": "https://localhost:8080/"
        },
        "id": "RkC5s1po2PFn",
        "outputId": "7a28bf34-52c7-4697-f53e-72c0797850ee"
      },
      "execution_count": 16,
      "outputs": [
        {
          "output_type": "stream",
          "name": "stdout",
          "text": [
            "              precision    recall  f1-score   support\n",
            "\n",
            "           0       0.77      0.59      0.67       220\n",
            "           1       0.93      0.97      0.95      1305\n",
            "\n",
            "    accuracy                           0.92      1525\n",
            "   macro avg       0.85      0.78      0.81      1525\n",
            "weighted avg       0.91      0.92      0.91      1525\n",
            "\n"
          ]
        }
      ]
    },
    {
      "cell_type": "code",
      "source": [
        "pd.DataFrame(grid.cv_results_)\n",
        "pd.DataFrame(grid.cv_results_)[['params','rank_test_score','mean_test_score']]"
      ],
      "metadata": {
        "colab": {
          "base_uri": "https://localhost:8080/",
          "height": 269
        },
        "id": "AnlgW_C-zyTf",
        "outputId": "f985cd2b-8e9b-43e9-ea09-39bc59433d14"
      },
      "execution_count": 17,
      "outputs": [
        {
          "output_type": "execute_result",
          "data": {
            "text/plain": [
              "                                         params  rank_test_score  \\\n",
              "0   {'learning_rate': 0.01, 'n_estimators': 10}                5   \n",
              "1  {'learning_rate': 0.025, 'n_estimators': 10}                5   \n",
              "2   {'learning_rate': 0.05, 'n_estimators': 10}                5   \n",
              "3  {'learning_rate': 0.075, 'n_estimators': 10}                4   \n",
              "4    {'learning_rate': 0.1, 'n_estimators': 10}                3   \n",
              "5   {'learning_rate': 0.15, 'n_estimators': 10}                2   \n",
              "6    {'learning_rate': 0.2, 'n_estimators': 10}                1   \n",
              "\n",
              "   mean_test_score  \n",
              "0         0.867804  \n",
              "1         0.867804  \n",
              "2         0.867804  \n",
              "3         0.888123  \n",
              "4         0.920853  \n",
              "5         0.936030  \n",
              "6         0.945961  "
            ],
            "text/html": [
              "\n",
              "  <div id=\"df-1c1ebb5d-c3b8-4f01-92b8-22f050f28279\">\n",
              "    <div class=\"colab-df-container\">\n",
              "      <div>\n",
              "<style scoped>\n",
              "    .dataframe tbody tr th:only-of-type {\n",
              "        vertical-align: middle;\n",
              "    }\n",
              "\n",
              "    .dataframe tbody tr th {\n",
              "        vertical-align: top;\n",
              "    }\n",
              "\n",
              "    .dataframe thead th {\n",
              "        text-align: right;\n",
              "    }\n",
              "</style>\n",
              "<table border=\"1\" class=\"dataframe\">\n",
              "  <thead>\n",
              "    <tr style=\"text-align: right;\">\n",
              "      <th></th>\n",
              "      <th>params</th>\n",
              "      <th>rank_test_score</th>\n",
              "      <th>mean_test_score</th>\n",
              "    </tr>\n",
              "  </thead>\n",
              "  <tbody>\n",
              "    <tr>\n",
              "      <th>0</th>\n",
              "      <td>{'learning_rate': 0.01, 'n_estimators': 10}</td>\n",
              "      <td>5</td>\n",
              "      <td>0.867804</td>\n",
              "    </tr>\n",
              "    <tr>\n",
              "      <th>1</th>\n",
              "      <td>{'learning_rate': 0.025, 'n_estimators': 10}</td>\n",
              "      <td>5</td>\n",
              "      <td>0.867804</td>\n",
              "    </tr>\n",
              "    <tr>\n",
              "      <th>2</th>\n",
              "      <td>{'learning_rate': 0.05, 'n_estimators': 10}</td>\n",
              "      <td>5</td>\n",
              "      <td>0.867804</td>\n",
              "    </tr>\n",
              "    <tr>\n",
              "      <th>3</th>\n",
              "      <td>{'learning_rate': 0.075, 'n_estimators': 10}</td>\n",
              "      <td>4</td>\n",
              "      <td>0.888123</td>\n",
              "    </tr>\n",
              "    <tr>\n",
              "      <th>4</th>\n",
              "      <td>{'learning_rate': 0.1, 'n_estimators': 10}</td>\n",
              "      <td>3</td>\n",
              "      <td>0.920853</td>\n",
              "    </tr>\n",
              "    <tr>\n",
              "      <th>5</th>\n",
              "      <td>{'learning_rate': 0.15, 'n_estimators': 10}</td>\n",
              "      <td>2</td>\n",
              "      <td>0.936030</td>\n",
              "    </tr>\n",
              "    <tr>\n",
              "      <th>6</th>\n",
              "      <td>{'learning_rate': 0.2, 'n_estimators': 10}</td>\n",
              "      <td>1</td>\n",
              "      <td>0.945961</td>\n",
              "    </tr>\n",
              "  </tbody>\n",
              "</table>\n",
              "</div>\n",
              "      <button class=\"colab-df-convert\" onclick=\"convertToInteractive('df-1c1ebb5d-c3b8-4f01-92b8-22f050f28279')\"\n",
              "              title=\"Convert this dataframe to an interactive table.\"\n",
              "              style=\"display:none;\">\n",
              "        \n",
              "  <svg xmlns=\"http://www.w3.org/2000/svg\" height=\"24px\"viewBox=\"0 0 24 24\"\n",
              "       width=\"24px\">\n",
              "    <path d=\"M0 0h24v24H0V0z\" fill=\"none\"/>\n",
              "    <path d=\"M18.56 5.44l.94 2.06.94-2.06 2.06-.94-2.06-.94-.94-2.06-.94 2.06-2.06.94zm-11 1L8.5 8.5l.94-2.06 2.06-.94-2.06-.94L8.5 2.5l-.94 2.06-2.06.94zm10 10l.94 2.06.94-2.06 2.06-.94-2.06-.94-.94-2.06-.94 2.06-2.06.94z\"/><path d=\"M17.41 7.96l-1.37-1.37c-.4-.4-.92-.59-1.43-.59-.52 0-1.04.2-1.43.59L10.3 9.45l-7.72 7.72c-.78.78-.78 2.05 0 2.83L4 21.41c.39.39.9.59 1.41.59.51 0 1.02-.2 1.41-.59l7.78-7.78 2.81-2.81c.8-.78.8-2.07 0-2.86zM5.41 20L4 18.59l7.72-7.72 1.47 1.35L5.41 20z\"/>\n",
              "  </svg>\n",
              "      </button>\n",
              "      \n",
              "  <style>\n",
              "    .colab-df-container {\n",
              "      display:flex;\n",
              "      flex-wrap:wrap;\n",
              "      gap: 12px;\n",
              "    }\n",
              "\n",
              "    .colab-df-convert {\n",
              "      background-color: #E8F0FE;\n",
              "      border: none;\n",
              "      border-radius: 50%;\n",
              "      cursor: pointer;\n",
              "      display: none;\n",
              "      fill: #1967D2;\n",
              "      height: 32px;\n",
              "      padding: 0 0 0 0;\n",
              "      width: 32px;\n",
              "    }\n",
              "\n",
              "    .colab-df-convert:hover {\n",
              "      background-color: #E2EBFA;\n",
              "      box-shadow: 0px 1px 2px rgba(60, 64, 67, 0.3), 0px 1px 3px 1px rgba(60, 64, 67, 0.15);\n",
              "      fill: #174EA6;\n",
              "    }\n",
              "\n",
              "    [theme=dark] .colab-df-convert {\n",
              "      background-color: #3B4455;\n",
              "      fill: #D2E3FC;\n",
              "    }\n",
              "\n",
              "    [theme=dark] .colab-df-convert:hover {\n",
              "      background-color: #434B5C;\n",
              "      box-shadow: 0px 1px 3px 1px rgba(0, 0, 0, 0.15);\n",
              "      filter: drop-shadow(0px 1px 2px rgba(0, 0, 0, 0.3));\n",
              "      fill: #FFFFFF;\n",
              "    }\n",
              "  </style>\n",
              "\n",
              "      <script>\n",
              "        const buttonEl =\n",
              "          document.querySelector('#df-1c1ebb5d-c3b8-4f01-92b8-22f050f28279 button.colab-df-convert');\n",
              "        buttonEl.style.display =\n",
              "          google.colab.kernel.accessAllowed ? 'block' : 'none';\n",
              "\n",
              "        async function convertToInteractive(key) {\n",
              "          const element = document.querySelector('#df-1c1ebb5d-c3b8-4f01-92b8-22f050f28279');\n",
              "          const dataTable =\n",
              "            await google.colab.kernel.invokeFunction('convertToInteractive',\n",
              "                                                     [key], {});\n",
              "          if (!dataTable) return;\n",
              "\n",
              "          const docLinkHtml = 'Like what you see? Visit the ' +\n",
              "            '<a target=\"_blank\" href=https://colab.research.google.com/notebooks/data_table.ipynb>data table notebook</a>'\n",
              "            + ' to learn more about interactive tables.';\n",
              "          element.innerHTML = '';\n",
              "          dataTable['output_type'] = 'display_data';\n",
              "          await google.colab.output.renderOutput(dataTable, element);\n",
              "          const docLink = document.createElement('div');\n",
              "          docLink.innerHTML = docLinkHtml;\n",
              "          element.appendChild(docLink);\n",
              "        }\n",
              "      </script>\n",
              "    </div>\n",
              "  </div>\n",
              "  "
            ]
          },
          "metadata": {},
          "execution_count": 17
        }
      ]
    },
    {
      "cell_type": "code",
      "source": [
        "print(grid.score(train_X, train_y))\n",
        "print(grid.best_params_)"
      ],
      "metadata": {
        "colab": {
          "base_uri": "https://localhost:8080/"
        },
        "id": "aA3GH0lkzzE7",
        "outputId": "cd0a9cd7-6870-436e-e9f3-4a238726fd8c"
      },
      "execution_count": 15,
      "outputs": [
        {
          "output_type": "stream",
          "name": "stdout",
          "text": [
            "0.9476313841598816\n",
            "{'learning_rate': 0.2, 'n_estimators': 10}\n"
          ]
        }
      ]
    },
    {
      "cell_type": "code",
      "source": [
        "y_pred_prob = clf.predict_proba(test_X)\n",
        "probs = y_pred_prob[:, 1]\n",
        "rfp, rvp, lim = roc_curve(test_y, probs)\n",
        "plt.plot(rfp, rvp, marker = '.', label='GradientBoosting', color=\"orange\")\n",
        "plt.plot([0, 1], [0, 1], color = 'darkblue', linestyle='--')\n",
        "plt.xlabel(\"Especificidade\")\n",
        "plt.ylabel(\"Sensibilidade\")\n",
        "plt.legend()\n",
        "plt.show()"
      ],
      "metadata": {
        "colab": {
          "base_uri": "https://localhost:8080/",
          "height": 279
        },
        "id": "kdhIfjYm2VPO",
        "outputId": "d188db9a-99ca-4034-8dd2-6aa2796e9605"
      },
      "execution_count": 24,
      "outputs": [
        {
          "output_type": "display_data",
          "data": {
            "text/plain": [
              "<Figure size 432x288 with 1 Axes>"
            ],
            "image/png": "[encoded data removed]"
          },
          "metadata": {
            "needs_background": "light"
          }
        }
      ]
    },
    {
      "cell_type": "markdown",
      "source": [
        "## RandomForestClassifier\n",
        "https://www.kaggle.com/code/sociopath00/random-forest-using-gridsearchcv"
      ],
      "metadata": {
        "id": "YIFu9qZW0iPP"
      }
    },
    {
      "cell_type": "code",
      "source": [
        "clf = RandomForestClassifier(random_state=42)\n",
        "param_grid = { \n",
        "    'n_estimators': [200, 500],\n",
        "    'max_features': ['auto', 'sqrt', 'log2'],\n",
        "    'max_depth' : [4,5,6,7,8],\n",
        "    'criterion' :['gini', 'entropy']\n",
        "}\n",
        "\n",
        "grid = GridSearchCV(estimator=clf, param_grid=param_grid, cv= 5)\n",
        "\n",
        "grid.fit(train_X, train_y)"
      ],
      "metadata": {
        "id": "1ZpyzLVxzh0J"
      },
      "execution_count": null,
      "outputs": []
    },
    {
      "cell_type": "code",
      "source": [
        "y_pred = clf.predict(test_X)\n",
        "print(classification_report(test_y, y_pred))"
      ],
      "metadata": {
        "id": "jHNtQaZm2ol4"
      },
      "execution_count": null,
      "outputs": []
    },
    {
      "cell_type": "code",
      "source": [
        "pd.DataFrame(grid.cv_results_)\n",
        "pd.DataFrame(grid.cv_results_)[['params','rank_test_score','mean_test_score']]"
      ],
      "metadata": {
        "id": "Kh9m4Bsr2qAZ"
      },
      "execution_count": null,
      "outputs": []
    },
    {
      "cell_type": "code",
      "source": [
        "print(clf.score(train_X, train_y))\n",
        "print(clf.best_params_)"
      ],
      "metadata": {
        "id": "b9HtOfMJ2rmX"
      },
      "execution_count": null,
      "outputs": []
    },
    {
      "cell_type": "code",
      "source": [
        "y_pred_prob = clf.predict_proba(test_X)\n",
        "probs = y_pred_prob[:, 1]\n",
        "rfp, rvp, lim = roc_curve(test_y, probs)\n",
        "plt.plot(rfp, rvp, marker = '.', label='RandomForest', color=\"orange\")\n",
        "plt.plot([0, 1], [0, 1], color = 'darkblue', linestyle='--')\n",
        "plt.xlabel(\"Especificidade\")\n",
        "plt.ylabel(\"Sensibilidade\")\n",
        "plt.legend()\n",
        "plt.show()"
      ],
      "metadata": {
        "id": "9UryObJ42s2f"
      },
      "execution_count": null,
      "outputs": []
    },
    {
      "cell_type": "markdown",
      "source": [
        "## Decision Tree\n",
        "https://www.kaggle.com/code/fermatsavant/decision-tree-high-acc-using-gridsearchcv"
      ],
      "metadata": {
        "id": "oX26JPmV443s"
      }
    },
    {
      "cell_type": "code",
      "source": [
        "clf = tree.DecisionTreeClassifier(random_state=1024)\n",
        "\n",
        "param_grid = {'max_features': ['auto', 'sqrt', 'log2'],\n",
        "              'ccp_alpha': [0.1, .01, .001],\n",
        "              'max_depth' : [5, 6, 7, 8, 9],\n",
        "              'criterion' :['gini', 'entropy']\n",
        "             }\n",
        "grid = GridSearchCV(estimator=clf, param_grid=param_grid, cv= 5)\n",
        "grid.fit(train_X, train_y)"
      ],
      "metadata": {
        "id": "UtwVHZWH5CKp"
      },
      "execution_count": null,
      "outputs": []
    },
    {
      "cell_type": "code",
      "source": [
        "y_pred = clf.predict(test_X)\n",
        "print(classification_report(test_y, y_pred))"
      ],
      "metadata": {
        "id": "Ba0Rr1dY5TNV"
      },
      "execution_count": null,
      "outputs": []
    },
    {
      "cell_type": "code",
      "source": [
        "pd.DataFrame(grid.cv_results_)\n",
        "pd.DataFrame(grid.cv_results_)[['params','rank_test_score','mean_test_score']]"
      ],
      "metadata": {
        "id": "7tX9DX-85Ttr"
      },
      "execution_count": null,
      "outputs": []
    },
    {
      "cell_type": "code",
      "source": [
        "print(clf.score(train_X, train_y))\n",
        "print(clf.best_params_)"
      ],
      "metadata": {
        "id": "fzdp45Zn5Ti7"
      },
      "execution_count": null,
      "outputs": []
    },
    {
      "cell_type": "code",
      "source": [
        "y_pred_prob = clf.predict_proba(test_X)\n",
        "probs = y_pred_prob[:, 1]\n",
        "rfp, rvp, lim = roc_curve(test_y, probs)\n",
        "plt.plot(rfp, rvp, marker = '.', label='DecisionTree', color=\"orange\")\n",
        "plt.plot([0, 1], [0, 1], color = 'darkblue', linestyle='--')\n",
        "plt.xlabel(\"Especificidade\")\n",
        "plt.ylabel(\"Sensibilidade\")\n",
        "plt.legend()\n",
        "plt.show()"
      ],
      "metadata": {
        "id": "p8RCG7Sd5W09"
      },
      "execution_count": null,
      "outputs": []
    },
    {
      "cell_type": "markdown",
      "source": [
        "##SVM\n",
        "https://www.geeksforgeeks.org/svm-hyperparameter-tuning-using-gridsearchcv-ml/"
      ],
      "metadata": {
        "id": "wtohK_Kd64Ha"
      }
    },
    {
      "cell_type": "code",
      "source": [
        "clf = svm.SVC()\n",
        "param_grid = {'C': [0.1, 1, 10, 100, 1000], \n",
        "              'gamma': [1, 0.1, 0.01, 0.001, 0.0001],\n",
        "              'kernel': ['rbf']} \n",
        "\n",
        "grid = GridSearchCV(clf, param_grid, refit = True, verbose = 3)\n",
        "grid.fit(train_X, train_y)"
      ],
      "metadata": {
        "id": "fmqSdD15635k"
      },
      "execution_count": null,
      "outputs": []
    },
    {
      "cell_type": "code",
      "source": [
        "y_pred = clf.predict(test_X)\n",
        "print(classification_report(test_y, y_pred))"
      ],
      "metadata": {
        "id": "IP7TQ0zt-lSG"
      },
      "execution_count": null,
      "outputs": []
    },
    {
      "cell_type": "code",
      "source": [
        "pd.DataFrame(grid.cv_results_)\n",
        "pd.DataFrame(grid.cv_results_)[['params','rank_test_score','mean_test_score']]"
      ],
      "metadata": {
        "id": "GXq_hd-u-muu"
      },
      "execution_count": null,
      "outputs": []
    },
    {
      "cell_type": "code",
      "source": [
        "print(clf.score(train_X, train_y))\n",
        "print(clf.best_params_)"
      ],
      "metadata": {
        "id": "4zFbP2Ns-n6u"
      },
      "execution_count": null,
      "outputs": []
    },
    {
      "cell_type": "code",
      "source": [
        "y_pred_prob = clf.predict_proba(test_X)\n",
        "probs = y_pred_prob[:, 1]\n",
        "rfp, rvp, lim = roc_curve(test_y, probs)\n",
        "plt.plot(rfp, rvp, marker = '.', label='SVM', color=\"orange\")\n",
        "plt.plot([0, 1], [0, 1], color = 'darkblue', linestyle='--')\n",
        "plt.xlabel(\"Especificidade\")\n",
        "plt.ylabel(\"Sensibilidade\")\n",
        "plt.legend()\n",
        "plt.show()"
      ],
      "metadata": {
        "id": "uTOFQgI1-pL9"
      },
      "execution_count": null,
      "outputs": []
    },
    {
      "cell_type": "markdown",
      "source": [
        "## Logistic Regression\n",
        "https://towardsdatascience.com/tuning-the-hyperparameters-of-your-machine-learning-model-using-gridsearchcv-7fc2bb76ff27\n"
      ],
      "metadata": {
        "id": "JuCiI0gc-9sn"
      }
    },
    {
      "cell_type": "code",
      "source": [
        "clf = LogisticRegression()\n",
        "\n",
        "parameters = {\n",
        "    'penalty' : ['l1','l2'], \n",
        "    'C'       : np.logspace(-3,3,7),\n",
        "    'solver'  : ['newton-cg', 'lbfgs', 'liblinear'],\n",
        "}\n",
        "\n",
        "grid = GridSearchCV(clf, param_grid = parameters, cv=10) \n",
        "grid.fit(train_X, train_y)\n"
      ],
      "metadata": {
        "id": "DbKf9YJW_xsJ"
      },
      "execution_count": null,
      "outputs": []
    },
    {
      "cell_type": "code",
      "source": [
        "y_pred = clf.predict(test_X)\n",
        "print(classification_report(test_y, y_pred))"
      ],
      "metadata": {
        "id": "yKBjTWaoHa-g"
      },
      "execution_count": null,
      "outputs": []
    },
    {
      "cell_type": "code",
      "source": [
        "pd.DataFrame(grid.cv_results_)\n",
        "pd.DataFrame(grid.cv_results_)[['params','rank_test_score','mean_test_score']]"
      ],
      "metadata": {
        "id": "dyvb44ZM_BEm"
      },
      "execution_count": null,
      "outputs": []
    },
    {
      "cell_type": "code",
      "source": [
        "print(clf.score(train_X, train_y))\n",
        "print(clf.best_params_)"
      ],
      "metadata": {
        "id": "kCUanXWCHdXg"
      },
      "execution_count": null,
      "outputs": []
    },
    {
      "cell_type": "code",
      "source": [
        "y_pred_prob = clf.predict_proba(test_X)\n",
        "probs = y_pred_prob[:, 1]\n",
        "rfp, rvp, lim = roc_curve(test_y, probs)\n",
        "plt.plot(rfp, rvp, marker = '.', label='LogisticRegression', color=\"orange\")\n",
        "plt.plot([0, 1], [0, 1], color = 'darkblue', linestyle='--')\n",
        "plt.xlabel(\"Especificidade\")\n",
        "plt.ylabel(\"Sensibilidade\")\n",
        "plt.legend()\n",
        "plt.show()"
      ],
      "metadata": {
        "id": "lm60Sa7gHedI"
      },
      "execution_count": null,
      "outputs": []
    }
  ],
  "metadata": {
    "kernelspec": {
      "display_name": "Python 3.10.0 64-bit",
      "language": "python",
      "name": "python3"
    },
    "language_info": {
      "codemirror_mode": {
        "name": "ipython",
        "version": 3
      },
      "file_extension": ".py",
      "mimetype": "text/x-python",
      "name": "python",
      "nbconvert_exporter": "python",
      "pygments_lexer": "ipython3",
      "version": "3.10.0"
    },
    "orig_nbformat": 4,
    "vscode": {
      "interpreter": {
        "hash": "ff2b62eaed73d2e1e1d38a205c492d76c68c9037b0d5e07e24413ea35a526a2e"
      }
    },
    "colab": {
      "provenance": [],
      "collapsed_sections": [
        "ewSt3Pe0xgft"
      ],
      "toc_visible": true,
      "include_colab_link": true
    }
  },
  "nbformat": 4,
  "nbformat_minor": 0
}