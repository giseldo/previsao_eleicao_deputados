{
 "cells": [
  {
   "cell_type": "code",
   "execution_count": 2,
   "metadata": {},
   "outputs": [],
   "source": [
    "# https://medium.com/data-hackers/engenharia-de-features-transformando-dados-categ%C3%B3ricos-em-dados-num%C3%A9ricos-e5d3991df715"
   ]
  },
  {
   "cell_type": "code",
   "execution_count": 3,
   "metadata": {},
   "outputs": [],
   "source": [
    "import pandas as pd\n",
    "from sklearn.preprocessing import LabelEncoder\n",
    "from sklearn import svm\n",
    "from sklearn.linear_model import LogisticRegression \n",
    "from sklearn.metrics import matthews_corrcoef, make_scorer, f1_score, accuracy_score\n",
    "from sklearn.model_selection import cross_val_score, cross_validate\n",
    "from sklearn.model_selection import train_test_split\n",
    "from sklearn import tree\n",
    "from sklearn.ensemble import RandomForestClassifier\n",
    "from sklearn.metrics import precision_recall_fscore_support\n",
    "import matplotlib.pyplot as plt\n",
    "import seaborn as sns\n",
    "from imblearn.under_sampling import RandomUnderSampler"
   ]
  },
  {
   "cell_type": "code",
   "execution_count": 4,
   "metadata": {},
   "outputs": [],
   "source": [
    "df = pd.read_csv(\"train.csv\") \n",
    "# apagando colunas que não auxiliam na predição\n",
    "df = df.drop([\"ano\", \"sequencial_candidato\", \"nome\"], axis=1)\n",
    "# lidando com as variaveis categoricas\n",
    "df = pd.get_dummies(df, columns = [\"uf\", \"partido\", \"cargo\", \"sexo\", \"grau\", \"estado_civil\", \"ocupacao\"]) \n",
    "# separando dados de treino e teste\n",
    "train, test = train_test_split(df, train_size=0.8) # separação entre treino e teste  \n",
    "\n",
    "train_y = train[[\"situacao\"]]\n",
    "train_X = train.drop([\"situacao\"], axis = 1)\n",
    "\n",
    "test_y = test[[\"situacao\"]]\n",
    "test_X = test.drop([\"situacao\"], axis = 1)\n",
    "\n",
    "le = LabelEncoder()\n",
    "le.fit(train_y.situacao)\n",
    "train_y = le.transform(train_y.situacao)\n",
    "\n",
    "le = LabelEncoder()\n",
    "le.fit(test_y.situacao)\n",
    "test_y = le.transform(test_y.situacao)"
   ]
  },
  {
   "cell_type": "code",
   "execution_count": 5,
   "metadata": {},
   "outputs": [
    {
     "data": {
      "text/plain": [
       "situacao\n",
       "eleito        1026\n",
       "nao_eleito    6596\n",
       "dtype: int64"
      ]
     },
     "execution_count": 5,
     "metadata": {},
     "output_type": "execute_result"
    }
   ],
   "source": [
    "df.groupby(\"situacao\").size()"
   ]
  },
  {
   "cell_type": "code",
   "execution_count": 18,
   "metadata": {},
   "outputs": [
    {
     "name": "stdout",
     "output_type": "stream",
     "text": [
      "nao_eleito    6596\n",
      "eleito        1026\n",
      "Name: situacao, dtype: int64\n",
      "\n",
      "Eleitos representam 0.0000% do dataset.\n",
      "\n"
     ]
    },
    {
     "data": {
      "image/png": "[encoded data removed]",
      "text/plain": [
       "<Figure size 640x480 with 1 Axes>"
      ]
     },
     "metadata": {},
     "output_type": "display_data"
    }
   ],
   "source": [
    "print(df.situacao.value_counts())\n",
    "print(\"\\nEleitos representam {:.4f}% do dataset.\\n\".format((df[df.situacao == \"eleitos\"].shape[0] / df.shape[0]) * 100))\n",
    "# plotar gráfico de barras para as Classes\n",
    "sns.countplot(df,x = 'situacao');"
   ]
  },
  {
   "cell_type": "markdown",
   "metadata": {},
   "source": [
    "P: Há desbalanceamento das classes (isto é, uma classe tem muito mais instâncias que outra)? \n",
    "\n",
    "R: Sim, Temos um dataset desbalanceado com mais classes do tipo \"não eleito\". mais ou menos 5 para 1, do que para o \"eleito\".\n",
    "\n",
    "P: Em que proporção? \n",
    "\n",
    "R: Mais de 5 para 1, (eleito 1026 e nao_eleito 6596) ou seja a cada 1 eleito temos quase 6 não eleitos.\n",
    "\n",
    "P: Quais efeitos colaterais o desbalanceamento de classes pode causar no classificador?\n",
    "\n",
    "R: Alguns algoritmos de ML tem dificuldade em em induzir um bom modelo a partir de conjutos de dados desbalanceados. Se classificarmos com dados da classe desbalanceados, os algoritmos podem não diferenciar  a classe minoritária das demais categorias, acreditando que estão agregando resultado devido à aparente alta acurácia. Essa falta de diferenciação pode ocasionar problemas visto que geralmente a classe minoritária é o cerne da questão, como no nosso caso, quem foi eleito.\n",
    "\n",
    "P: Como você poderia tratar isso? (10 pt.)\n",
    "\n",
    "R: Pode ser utilizado as técnicas de \"Reestruturação dos dados\". Dentro das ténicas de \"Reestruturação de dados\" pode ser feito o \"Undersamplig\", que é reduzir a distribuição dos dados das observações da classe majoritária, para tentar igualar a quantidade. Isso pode ser feito com \"Random Undersamplig\", que é a retirada aleatória de observações da classe majoritária, ou \"Fusão\" que é unir duas ou mais observações da classe majoritária para uma menor perda de informação. Outra forma é o Oversampling consite em criar novas observações da classe minoritária com o objetivo de igualar a proporção das categorias. Outra opção é escolher um algoritmo mais resilente, coletar mais dados e usar modelos penalizados ou utilizar outras métricas para treino.\n",
    "\n",
    "Fonte: https://medium.com/turing-talks/dados-desbalanceados-o-que-s%C3%A3o-e-como-evit%C3%A1-los-43df4f49732b\n"
   ]
  },
  {
   "cell_type": "markdown",
   "metadata": {},
   "source": [
    "2 - Treine: \n",
    "\n",
    "2.1 - um modelo de regressão logística, OK\n",
    "\n",
    "2.2 - uma árvore de decisão, OK\n",
    "\n",
    "2.3 - um modelo de adaboost, OK\n",
    "\n",
    "2.4 - um modelo de random forest e OK\n",
    "\n",
    "2.5 - um modelo de gradient boosting.  OK\n",
    "\n",
    "2.6 - Tune esses modelos usando validação cruzada e controle overfitting se necessário, considerando as particularidades de cada modelo.  (10 pts.)"
   ]
  },
  {
   "cell_type": "markdown",
   "metadata": {},
   "source": [
    "Regressao Logistica"
   ]
  },
  {
   "cell_type": "code",
   "execution_count": 27,
   "metadata": {},
   "outputs": [
    {
     "name": "stderr",
     "output_type": "stream",
     "text": [
      "c:\\Users\\gigi\\AppData\\Local\\Programs\\Python\\Python310\\lib\\site-packages\\sklearn\\linear_model\\_logistic.py:444: ConvergenceWarning: lbfgs failed to converge (status=1):\n",
      "STOP: TOTAL NO. of ITERATIONS REACHED LIMIT.\n",
      "\n",
      "Increase the number of iterations (max_iter) or scale the data as shown in:\n",
      "    https://scikit-learn.org/stable/modules/preprocessing.html\n",
      "Please also refer to the documentation for alternative solver options:\n",
      "    https://scikit-learn.org/stable/modules/linear_model.html#logistic-regression\n",
      "  n_iter_i = _check_optimize_result(\n"
     ]
    },
    {
     "data": {
      "text/html": [
       "<div>\n",
       "<style scoped>\n",
       "    .dataframe tbody tr th:only-of-type {\n",
       "        vertical-align: middle;\n",
       "    }\n",
       "\n",
       "    .dataframe tbody tr th {\n",
       "        vertical-align: top;\n",
       "    }\n",
       "\n",
       "    .dataframe thead th {\n",
       "        text-align: right;\n",
       "    }\n",
       "</style>\n",
       "<table border=\"1\" class=\"dataframe\">\n",
       "  <thead>\n",
       "    <tr style=\"text-align: right;\">\n",
       "      <th></th>\n",
       "      <th>LR_Treino</th>\n",
       "      <th>LR_Test</th>\n",
       "    </tr>\n",
       "  </thead>\n",
       "  <tbody>\n",
       "    <tr>\n",
       "      <th>Precision</th>\n",
       "      <td>0.801789</td>\n",
       "      <td>0.843351</td>\n",
       "    </tr>\n",
       "    <tr>\n",
       "      <th>Recall</th>\n",
       "      <td>0.715221</td>\n",
       "      <td>0.725477</td>\n",
       "    </tr>\n",
       "    <tr>\n",
       "      <th>F-Measure</th>\n",
       "      <td>0.747835</td>\n",
       "      <td>0.766585</td>\n",
       "    </tr>\n",
       "    <tr>\n",
       "      <th>None</th>\n",
       "      <td>NaN</td>\n",
       "      <td>NaN</td>\n",
       "    </tr>\n",
       "  </tbody>\n",
       "</table>\n",
       "</div>"
      ],
      "text/plain": [
       "           LR_Treino   LR_Test\n",
       "Precision   0.801789  0.843351\n",
       "Recall      0.715221  0.725477\n",
       "F-Measure   0.747835  0.766585\n",
       "None             NaN       NaN"
      ]
     },
     "execution_count": 27,
     "metadata": {},
     "output_type": "execute_result"
    }
   ],
   "source": [
    "clf = LogisticRegression()\n",
    "clf.fit(train_X, train_y)\n",
    "y_pred_train = clf.predict(train_X)\n",
    "y_pred_test = clf.predict(test_X)\n",
    "\n",
    "res =  precision_recall_fscore_support(train_y, y_pred_train, average=\"macro\")\n",
    "resultado_df = pd.DataFrame(data = res, index= [\"Precision\", \"Recall\", \"F-Measure\",\"None\"], columns=[\"LR_Treino\"])\n",
    "extracted_col = resultado_df[\"LR_Treino\"]\n",
    "\n",
    "res2 =  precision_recall_fscore_support(test_y, y_pred_test, average=\"macro\")\n",
    "resultado_df2 = pd.DataFrame(data = res2, index= [\"Precision\", \"Recall\", \"F-Measure\",\"None\"], columns=[\"LR_Test\"])\n",
    "extracted_col2 = resultado_df2[\"LR_Test\"]\n",
    "\n",
    "resultado_df = resultado_df.join(extracted_col2)\n",
    "\n",
    "resultado_df\n"
   ]
  },
  {
   "cell_type": "code",
   "execution_count": 28,
   "metadata": {},
   "outputs": [
    {
     "data": {
      "text/plain": [
       "<AxesSubplot: >"
      ]
     },
     "execution_count": 28,
     "metadata": {},
     "output_type": "execute_result"
    },
    {
     "data": {
      "image/png": "[encoded data removed]",
      "text/plain": [
       "<Figure size 640x480 with 1 Axes>"
      ]
     },
     "metadata": {},
     "output_type": "display_data"
    }
   ],
   "source": [
    "resultado_df.plot.bar()"
   ]
  },
  {
   "cell_type": "markdown",
   "metadata": {},
   "source": [
    "Arvore de decisão"
   ]
  },
  {
   "cell_type": "code",
   "execution_count": 7,
   "metadata": {},
   "outputs": [
    {
     "data": {
      "text/html": [
       "<div>\n",
       "<style scoped>\n",
       "    .dataframe tbody tr th:only-of-type {\n",
       "        vertical-align: middle;\n",
       "    }\n",
       "\n",
       "    .dataframe tbody tr th {\n",
       "        vertical-align: top;\n",
       "    }\n",
       "\n",
       "    .dataframe thead th {\n",
       "        text-align: right;\n",
       "    }\n",
       "</style>\n",
       "<table border=\"1\" class=\"dataframe\">\n",
       "  <thead>\n",
       "    <tr style=\"text-align: right;\">\n",
       "      <th></th>\n",
       "      <th>LR_Treino</th>\n",
       "      <th>LR_Test</th>\n",
       "      <th>DT_Treino</th>\n",
       "      <th>DT_Test</th>\n",
       "    </tr>\n",
       "  </thead>\n",
       "  <tbody>\n",
       "    <tr>\n",
       "      <th>Precision</th>\n",
       "      <td>0.801789</td>\n",
       "      <td>0.843351</td>\n",
       "      <td>1.0</td>\n",
       "      <td>0.820805</td>\n",
       "    </tr>\n",
       "    <tr>\n",
       "      <th>Recall</th>\n",
       "      <td>0.715221</td>\n",
       "      <td>0.725477</td>\n",
       "      <td>1.0</td>\n",
       "      <td>0.789271</td>\n",
       "    </tr>\n",
       "    <tr>\n",
       "      <th>F-Measure</th>\n",
       "      <td>0.747835</td>\n",
       "      <td>0.766585</td>\n",
       "      <td>1.0</td>\n",
       "      <td>0.803758</td>\n",
       "    </tr>\n",
       "    <tr>\n",
       "      <th>None</th>\n",
       "      <td>NaN</td>\n",
       "      <td>NaN</td>\n",
       "      <td>NaN</td>\n",
       "      <td>NaN</td>\n",
       "    </tr>\n",
       "  </tbody>\n",
       "</table>\n",
       "</div>"
      ],
      "text/plain": [
       "           LR_Treino   LR_Test  DT_Treino   DT_Test\n",
       "Precision   0.801789  0.843351        1.0  0.820805\n",
       "Recall      0.715221  0.725477        1.0  0.789271\n",
       "F-Measure   0.747835  0.766585        1.0  0.803758\n",
       "None             NaN       NaN        NaN       NaN"
      ]
     },
     "execution_count": 7,
     "metadata": {},
     "output_type": "execute_result"
    }
   ],
   "source": [
    "clf = tree.DecisionTreeClassifier()\n",
    "clf.fit(train_X, train_y)\n",
    "y_pred_train = clf.predict(train_X)\n",
    "y_pred_test = clf.predict(test_X)\n",
    "\n",
    "res =  precision_recall_fscore_support(train_y, y_pred_train, average=\"macro\")\n",
    "resultado_df_DT = pd.DataFrame(data = res, index= [\"Precision\", \"Recall\", \"F-Measure\",\"None\"], columns=[\"DT_Treino\"])\n",
    "extracted_col = resultado_df_DT[\"DT_Treino\"]\n",
    "\n",
    "res2 =  precision_recall_fscore_support(test_y, y_pred_test, average=\"macro\")\n",
    "resultado_df_DT2 = pd.DataFrame(data = res2, index= [\"Precision\", \"Recall\", \"F-Measure\",\"None\"], columns=[\"DT_Test\"])\n",
    "extracted_col2 = resultado_df_DT2[\"DT_Test\"]\n",
    "\n",
    "resultado_df = resultado_df.join(extracted_col)\n",
    "resultado_df = resultado_df.join(extracted_col2)\n",
    "\n",
    "resultado_df"
   ]
  },
  {
   "cell_type": "markdown",
   "metadata": {},
   "source": [
    "ADABOOST"
   ]
  },
  {
   "cell_type": "code",
   "execution_count": 8,
   "metadata": {},
   "outputs": [
    {
     "data": {
      "text/html": [
       "<div>\n",
       "<style scoped>\n",
       "    .dataframe tbody tr th:only-of-type {\n",
       "        vertical-align: middle;\n",
       "    }\n",
       "\n",
       "    .dataframe tbody tr th {\n",
       "        vertical-align: top;\n",
       "    }\n",
       "\n",
       "    .dataframe thead th {\n",
       "        text-align: right;\n",
       "    }\n",
       "</style>\n",
       "<table border=\"1\" class=\"dataframe\">\n",
       "  <thead>\n",
       "    <tr style=\"text-align: right;\">\n",
       "      <th></th>\n",
       "      <th>LR_Treino</th>\n",
       "      <th>LR_Test</th>\n",
       "      <th>DT_Treino</th>\n",
       "      <th>DT_Test</th>\n",
       "      <th>AB_Treino</th>\n",
       "      <th>AB_Test</th>\n",
       "    </tr>\n",
       "  </thead>\n",
       "  <tbody>\n",
       "    <tr>\n",
       "      <th>Precision</th>\n",
       "      <td>0.801789</td>\n",
       "      <td>0.843351</td>\n",
       "      <td>1.0</td>\n",
       "      <td>0.820805</td>\n",
       "      <td>0.830912</td>\n",
       "      <td>0.846110</td>\n",
       "    </tr>\n",
       "    <tr>\n",
       "      <th>Recall</th>\n",
       "      <td>0.715221</td>\n",
       "      <td>0.725477</td>\n",
       "      <td>1.0</td>\n",
       "      <td>0.789271</td>\n",
       "      <td>0.828831</td>\n",
       "      <td>0.829970</td>\n",
       "    </tr>\n",
       "    <tr>\n",
       "      <th>F-Measure</th>\n",
       "      <td>0.747835</td>\n",
       "      <td>0.766585</td>\n",
       "      <td>1.0</td>\n",
       "      <td>0.803758</td>\n",
       "      <td>0.829866</td>\n",
       "      <td>0.837739</td>\n",
       "    </tr>\n",
       "    <tr>\n",
       "      <th>None</th>\n",
       "      <td>NaN</td>\n",
       "      <td>NaN</td>\n",
       "      <td>NaN</td>\n",
       "      <td>NaN</td>\n",
       "      <td>NaN</td>\n",
       "      <td>NaN</td>\n",
       "    </tr>\n",
       "  </tbody>\n",
       "</table>\n",
       "</div>"
      ],
      "text/plain": [
       "           LR_Treino   LR_Test  DT_Treino   DT_Test  AB_Treino   AB_Test\n",
       "Precision   0.801789  0.843351        1.0  0.820805   0.830912  0.846110\n",
       "Recall      0.715221  0.725477        1.0  0.789271   0.828831  0.829970\n",
       "F-Measure   0.747835  0.766585        1.0  0.803758   0.829866  0.837739\n",
       "None             NaN       NaN        NaN       NaN        NaN       NaN"
      ]
     },
     "execution_count": 8,
     "metadata": {},
     "output_type": "execute_result"
    }
   ],
   "source": [
    "from sklearn.ensemble import AdaBoostClassifier\n",
    "clf = AdaBoostClassifier()\n",
    "clf.fit(train_X, train_y)\n",
    "y_pred_train = clf.predict(train_X)\n",
    "y_pred_test = clf.predict(test_X)\n",
    "\n",
    "res =  precision_recall_fscore_support(train_y, y_pred_train, average=\"macro\")\n",
    "resultado_df_RF = pd.DataFrame(data = res, index= [\"Precision\", \"Recall\", \"F-Measure\",\"None\"], columns=[\"AB_Treino\"])\n",
    "extracted_col = resultado_df_RF[\"AB_Treino\"]\n",
    "\n",
    "res2 =  precision_recall_fscore_support(test_y, y_pred_test, average=\"macro\")\n",
    "resultado_df_RF2 = pd.DataFrame(data = res2, index= [\"Precision\", \"Recall\", \"F-Measure\",\"None\"], columns=[\"AB_Test\"])\n",
    "extracted_col2 = resultado_df_RF2[\"AB_Test\"]\n",
    "\n",
    "resultado_df = resultado_df.join(extracted_col)\n",
    "resultado_df = resultado_df.join(extracted_col2)\n",
    "\n",
    "resultado_df"
   ]
  },
  {
   "cell_type": "markdown",
   "metadata": {},
   "source": [
    "Random Forest"
   ]
  },
  {
   "cell_type": "code",
   "execution_count": 9,
   "metadata": {},
   "outputs": [
    {
     "data": {
      "text/html": [
       "<div>\n",
       "<style scoped>\n",
       "    .dataframe tbody tr th:only-of-type {\n",
       "        vertical-align: middle;\n",
       "    }\n",
       "\n",
       "    .dataframe tbody tr th {\n",
       "        vertical-align: top;\n",
       "    }\n",
       "\n",
       "    .dataframe thead th {\n",
       "        text-align: right;\n",
       "    }\n",
       "</style>\n",
       "<table border=\"1\" class=\"dataframe\">\n",
       "  <thead>\n",
       "    <tr style=\"text-align: right;\">\n",
       "      <th></th>\n",
       "      <th>LR_Treino</th>\n",
       "      <th>LR_Test</th>\n",
       "      <th>DT_Treino</th>\n",
       "      <th>DT_Test</th>\n",
       "      <th>AB_Treino</th>\n",
       "      <th>AB_Test</th>\n",
       "      <th>RF_Treino</th>\n",
       "      <th>RF_Test</th>\n",
       "    </tr>\n",
       "  </thead>\n",
       "  <tbody>\n",
       "    <tr>\n",
       "      <th>Precision</th>\n",
       "      <td>0.801789</td>\n",
       "      <td>0.843351</td>\n",
       "      <td>1.0</td>\n",
       "      <td>0.820805</td>\n",
       "      <td>0.830912</td>\n",
       "      <td>0.846110</td>\n",
       "      <td>1.0</td>\n",
       "      <td>0.850597</td>\n",
       "    </tr>\n",
       "    <tr>\n",
       "      <th>Recall</th>\n",
       "      <td>0.715221</td>\n",
       "      <td>0.725477</td>\n",
       "      <td>1.0</td>\n",
       "      <td>0.789271</td>\n",
       "      <td>0.828831</td>\n",
       "      <td>0.829970</td>\n",
       "      <td>1.0</td>\n",
       "      <td>0.816135</td>\n",
       "    </tr>\n",
       "    <tr>\n",
       "      <th>F-Measure</th>\n",
       "      <td>0.747835</td>\n",
       "      <td>0.766585</td>\n",
       "      <td>1.0</td>\n",
       "      <td>0.803758</td>\n",
       "      <td>0.829866</td>\n",
       "      <td>0.837739</td>\n",
       "      <td>1.0</td>\n",
       "      <td>0.831994</td>\n",
       "    </tr>\n",
       "    <tr>\n",
       "      <th>None</th>\n",
       "      <td>NaN</td>\n",
       "      <td>NaN</td>\n",
       "      <td>NaN</td>\n",
       "      <td>NaN</td>\n",
       "      <td>NaN</td>\n",
       "      <td>NaN</td>\n",
       "      <td>NaN</td>\n",
       "      <td>NaN</td>\n",
       "    </tr>\n",
       "  </tbody>\n",
       "</table>\n",
       "</div>"
      ],
      "text/plain": [
       "           LR_Treino   LR_Test  DT_Treino   DT_Test  AB_Treino   AB_Test  \\\n",
       "Precision   0.801789  0.843351        1.0  0.820805   0.830912  0.846110   \n",
       "Recall      0.715221  0.725477        1.0  0.789271   0.828831  0.829970   \n",
       "F-Measure   0.747835  0.766585        1.0  0.803758   0.829866  0.837739   \n",
       "None             NaN       NaN        NaN       NaN        NaN       NaN   \n",
       "\n",
       "           RF_Treino   RF_Test  \n",
       "Precision        1.0  0.850597  \n",
       "Recall           1.0  0.816135  \n",
       "F-Measure        1.0  0.831994  \n",
       "None             NaN       NaN  "
      ]
     },
     "execution_count": 9,
     "metadata": {},
     "output_type": "execute_result"
    }
   ],
   "source": [
    "clf = RandomForestClassifier()\n",
    "clf.fit(train_X, train_y)\n",
    "y_pred_train = clf.predict(train_X)\n",
    "y_pred_test = clf.predict(test_X)\n",
    "\n",
    "res =  precision_recall_fscore_support(train_y, y_pred_train, average=\"macro\")\n",
    "resultado_df_RF = pd.DataFrame(data = res, index= [\"Precision\", \"Recall\", \"F-Measure\",\"None\"], columns=[\"RF_Treino\"])\n",
    "extracted_col = resultado_df_RF[\"RF_Treino\"]\n",
    "\n",
    "res2 =  precision_recall_fscore_support(test_y, y_pred_test, average=\"macro\")\n",
    "resultado_df_RF2 = pd.DataFrame(data = res2, index= [\"Precision\", \"Recall\", \"F-Measure\",\"None\"], columns=[\"RF_Test\"])\n",
    "extracted_col2 = resultado_df_RF2[\"RF_Test\"]\n",
    "\n",
    "resultado_df = resultado_df.join(extracted_col)\n",
    "resultado_df = resultado_df.join(extracted_col2)\n",
    "\n",
    "resultado_df"
   ]
  },
  {
   "cell_type": "markdown",
   "metadata": {},
   "source": [
    "Gradiente Boosting"
   ]
  },
  {
   "cell_type": "code",
   "execution_count": 10,
   "metadata": {},
   "outputs": [
    {
     "data": {
      "text/html": [
       "<div>\n",
       "<style scoped>\n",
       "    .dataframe tbody tr th:only-of-type {\n",
       "        vertical-align: middle;\n",
       "    }\n",
       "\n",
       "    .dataframe tbody tr th {\n",
       "        vertical-align: top;\n",
       "    }\n",
       "\n",
       "    .dataframe thead th {\n",
       "        text-align: right;\n",
       "    }\n",
       "</style>\n",
       "<table border=\"1\" class=\"dataframe\">\n",
       "  <thead>\n",
       "    <tr style=\"text-align: right;\">\n",
       "      <th></th>\n",
       "      <th>LR_Treino</th>\n",
       "      <th>LR_Test</th>\n",
       "      <th>DT_Treino</th>\n",
       "      <th>DT_Test</th>\n",
       "      <th>AB_Treino</th>\n",
       "      <th>AB_Test</th>\n",
       "      <th>RF_Treino</th>\n",
       "      <th>RF_Test</th>\n",
       "      <th>GB_Treino</th>\n",
       "      <th>GB_Test</th>\n",
       "    </tr>\n",
       "  </thead>\n",
       "  <tbody>\n",
       "    <tr>\n",
       "      <th>Precision</th>\n",
       "      <td>0.801789</td>\n",
       "      <td>0.843351</td>\n",
       "      <td>1.0</td>\n",
       "      <td>0.820805</td>\n",
       "      <td>0.830912</td>\n",
       "      <td>0.846110</td>\n",
       "      <td>1.0</td>\n",
       "      <td>0.850597</td>\n",
       "      <td>0.892591</td>\n",
       "      <td>0.856428</td>\n",
       "    </tr>\n",
       "    <tr>\n",
       "      <th>Recall</th>\n",
       "      <td>0.715221</td>\n",
       "      <td>0.725477</td>\n",
       "      <td>1.0</td>\n",
       "      <td>0.789271</td>\n",
       "      <td>0.828831</td>\n",
       "      <td>0.829970</td>\n",
       "      <td>1.0</td>\n",
       "      <td>0.816135</td>\n",
       "      <td>0.878510</td>\n",
       "      <td>0.834186</td>\n",
       "    </tr>\n",
       "    <tr>\n",
       "      <th>F-Measure</th>\n",
       "      <td>0.747835</td>\n",
       "      <td>0.766585</td>\n",
       "      <td>1.0</td>\n",
       "      <td>0.803758</td>\n",
       "      <td>0.829866</td>\n",
       "      <td>0.837739</td>\n",
       "      <td>1.0</td>\n",
       "      <td>0.831994</td>\n",
       "      <td>0.885361</td>\n",
       "      <td>0.844752</td>\n",
       "    </tr>\n",
       "    <tr>\n",
       "      <th>None</th>\n",
       "      <td>NaN</td>\n",
       "      <td>NaN</td>\n",
       "      <td>NaN</td>\n",
       "      <td>NaN</td>\n",
       "      <td>NaN</td>\n",
       "      <td>NaN</td>\n",
       "      <td>NaN</td>\n",
       "      <td>NaN</td>\n",
       "      <td>NaN</td>\n",
       "      <td>NaN</td>\n",
       "    </tr>\n",
       "  </tbody>\n",
       "</table>\n",
       "</div>"
      ],
      "text/plain": [
       "           LR_Treino   LR_Test  DT_Treino   DT_Test  AB_Treino   AB_Test  \\\n",
       "Precision   0.801789  0.843351        1.0  0.820805   0.830912  0.846110   \n",
       "Recall      0.715221  0.725477        1.0  0.789271   0.828831  0.829970   \n",
       "F-Measure   0.747835  0.766585        1.0  0.803758   0.829866  0.837739   \n",
       "None             NaN       NaN        NaN       NaN        NaN       NaN   \n",
       "\n",
       "           RF_Treino   RF_Test  GB_Treino   GB_Test  \n",
       "Precision        1.0  0.850597   0.892591  0.856428  \n",
       "Recall           1.0  0.816135   0.878510  0.834186  \n",
       "F-Measure        1.0  0.831994   0.885361  0.844752  \n",
       "None             NaN       NaN        NaN       NaN  "
      ]
     },
     "execution_count": 10,
     "metadata": {},
     "output_type": "execute_result"
    }
   ],
   "source": [
    "from sklearn.ensemble import GradientBoostingClassifier\n",
    "\n",
    "clf = GradientBoostingClassifier()\n",
    "clf.fit(train_X, train_y)\n",
    "y_pred_train = clf.predict(train_X)\n",
    "y_pred_test = clf.predict(test_X)\n",
    "\n",
    "res =  precision_recall_fscore_support(train_y, y_pred_train, average=\"macro\")\n",
    "resultado_df_GB = pd.DataFrame(data = res, index= [\"Precision\", \"Recall\", \"F-Measure\",\"None\"], columns=[\"GB_Treino\"])\n",
    "extracted_col = resultado_df_GB[\"GB_Treino\"]\n",
    "\n",
    "res2 =  precision_recall_fscore_support(test_y, y_pred_test, average=\"macro\")\n",
    "resultado_df_GB2 = pd.DataFrame(data = res2, index= [\"Precision\", \"Recall\", \"F-Measure\",\"None\"], columns=[\"GB_Test\"])\n",
    "extracted_col2 = resultado_df_GB2[\"GB_Test\"]\n",
    "\n",
    "resultado_df = resultado_df.join(extracted_col)\n",
    "resultado_df = resultado_df.join(extracted_col2)\n",
    "\n",
    "resultado_df"
   ]
  },
  {
   "cell_type": "markdown",
   "metadata": {},
   "source": [
    "P: 3 - Reporte precision, recall e f-measure no treino e validação. Há uma grande diferença de desempenho no treino/validação? Como você avalia os resultados? Justifique sua resposta. (10 pt.)\n",
    "\n",
    "R: Sim há uma boa diferença, porém analisando os dados percebe-se que no treino os modelos DecisionTree e RandomForest no treino apontam 1.0 para precision, recall e f-score. Não levando em consideração este fato o modelo Gradient Boost, conforme grafico abaixo é o modelo que teve melhores indicadores (precision, recall, f-score) entre os modelos"
   ]
  },
  {
   "cell_type": "code",
   "execution_count": 11,
   "metadata": {},
   "outputs": [
    {
     "data": {
      "image/png": "[encoded data removed]",
      "text/plain": [
       "<Figure size 640x480 with 1 Axes>"
      ]
     },
     "metadata": {},
     "output_type": "display_data"
    }
   ],
   "source": [
    "resultado_df.plot.bar()\n",
    "plt.show()"
   ]
  },
  {
   "cell_type": "markdown",
   "metadata": {},
   "source": [
    "4 - Interprete as saídas dos modelos. Quais atributos parecem ser mais importantes de acordo com cada modelo? (10 pts.)\n",
    "5 - Envie seus melhores modelos conforme resultados nos dados de teste. Sugestões para melhorar o modelo: (10 pts.)\n",
    "6 - Experimente outros modelos (e.g. SVM, RandomForests e GradientBoosting).\n",
    "7 - Experimente balancear as classes,  caso estejam desbalanceadas."
   ]
  },
  {
   "cell_type": "markdown",
   "metadata": {},
   "source": [
    "Balanceamento das classes"
   ]
  },
  {
   "cell_type": "markdown",
   "metadata": {},
   "source": [
    "Under-Sampling"
   ]
  },
  {
   "cell_type": "code",
   "execution_count": 23,
   "metadata": {},
   "outputs": [
    {
     "name": "stdout",
     "output_type": "stream",
     "text": [
      "0    809\n",
      "1    809\n",
      "dtype: int64\n"
     ]
    },
    {
     "data": {
      "text/plain": [
       "<AxesSubplot: ylabel='count'>"
      ]
     },
     "execution_count": 23,
     "metadata": {},
     "output_type": "execute_result"
    },
    {
     "data": {
      "image/png": "[encoded data removed]",
      "text/plain": [
       "<Figure size 640x480 with 1 Axes>"
      ]
     },
     "metadata": {},
     "output_type": "display_data"
    }
   ],
   "source": [
    "rus = RandomUnderSampler()\n",
    "x_res, y_res = rus.fit_resample(train_X, train_y)\n",
    "print(pd.Series(y_res).value_counts())\n",
    "sns.countplot(x=y_res)"
   ]
  },
  {
   "cell_type": "code",
   "execution_count": 29,
   "metadata": {},
   "outputs": [
    {
     "name": "stderr",
     "output_type": "stream",
     "text": [
      "c:\\Users\\gigi\\AppData\\Local\\Programs\\Python\\Python310\\lib\\site-packages\\sklearn\\linear_model\\_logistic.py:444: ConvergenceWarning: lbfgs failed to converge (status=1):\n",
      "STOP: TOTAL NO. of ITERATIONS REACHED LIMIT.\n",
      "\n",
      "Increase the number of iterations (max_iter) or scale the data as shown in:\n",
      "    https://scikit-learn.org/stable/modules/preprocessing.html\n",
      "Please also refer to the documentation for alternative solver options:\n",
      "    https://scikit-learn.org/stable/modules/linear_model.html#logistic-regression\n",
      "  n_iter_i = _check_optimize_result(\n"
     ]
    },
    {
     "data": {
      "text/html": [
       "<div>\n",
       "<style scoped>\n",
       "    .dataframe tbody tr th:only-of-type {\n",
       "        vertical-align: middle;\n",
       "    }\n",
       "\n",
       "    .dataframe tbody tr th {\n",
       "        vertical-align: top;\n",
       "    }\n",
       "\n",
       "    .dataframe thead th {\n",
       "        text-align: right;\n",
       "    }\n",
       "</style>\n",
       "<table border=\"1\" class=\"dataframe\">\n",
       "  <thead>\n",
       "    <tr style=\"text-align: right;\">\n",
       "      <th></th>\n",
       "      <th>LR_Treino</th>\n",
       "      <th>LR_Test</th>\n",
       "    </tr>\n",
       "  </thead>\n",
       "  <tbody>\n",
       "    <tr>\n",
       "      <th>Precision</th>\n",
       "      <td>0.707188</td>\n",
       "      <td>0.721036</td>\n",
       "    </tr>\n",
       "    <tr>\n",
       "      <th>Recall</th>\n",
       "      <td>0.873990</td>\n",
       "      <td>0.871773</td>\n",
       "    </tr>\n",
       "    <tr>\n",
       "      <th>F-Measure</th>\n",
       "      <td>0.736806</td>\n",
       "      <td>0.752656</td>\n",
       "    </tr>\n",
       "    <tr>\n",
       "      <th>None</th>\n",
       "      <td>NaN</td>\n",
       "      <td>NaN</td>\n",
       "    </tr>\n",
       "  </tbody>\n",
       "</table>\n",
       "</div>"
      ],
      "text/plain": [
       "           LR_Treino   LR_Test\n",
       "Precision   0.707188  0.721036\n",
       "Recall      0.873990  0.871773\n",
       "F-Measure   0.736806  0.752656\n",
       "None             NaN       NaN"
      ]
     },
     "execution_count": 29,
     "metadata": {},
     "output_type": "execute_result"
    }
   ],
   "source": [
    "clf = LogisticRegression()\n",
    "clf.fit(x_res, y_res)\n",
    "y_pred_train = clf.predict(train_X)\n",
    "y_pred_test = clf.predict(test_X)\n",
    "\n",
    "res =  precision_recall_fscore_support(train_y, y_pred_train, average=\"macro\")\n",
    "resultado_df = pd.DataFrame(data = res, index= [\"Precision\", \"Recall\", \"F-Measure\",\"None\"], columns=[\"LR_Treino\"])\n",
    "extracted_col = resultado_df[\"LR_Treino\"]\n",
    "\n",
    "res2 =  precision_recall_fscore_support(test_y, y_pred_test, average=\"macro\")\n",
    "resultado_df2 = pd.DataFrame(data = res2, index= [\"Precision\", \"Recall\", \"F-Measure\",\"None\"], columns=[\"LR_Test\"])\n",
    "extracted_col2 = resultado_df2[\"LR_Test\"]\n",
    "\n",
    "resultado_df = resultado_df.join(extracted_col2)\n",
    "\n",
    "resultado_df\n"
   ]
  },
  {
   "cell_type": "code",
   "execution_count": 30,
   "metadata": {},
   "outputs": [
    {
     "data": {
      "text/plain": [
       "<AxesSubplot: >"
      ]
     },
     "execution_count": 30,
     "metadata": {},
     "output_type": "execute_result"
    },
    {
     "data": {
      "image/png": "[encoded data removed]",
      "text/plain": [
       "<Figure size 640x480 with 1 Axes>"
      ]
     },
     "metadata": {},
     "output_type": "display_data"
    }
   ],
   "source": [
    "resultado_df.plot.bar()"
   ]
  },
  {
   "cell_type": "code",
   "execution_count": null,
   "metadata": {},
   "outputs": [],
   "source": []
  }
 ],
 "metadata": {
  "kernelspec": {
   "display_name": "Python 3.10.0 64-bit",
   "language": "python",
   "name": "python3"
  },
  "language_info": {
   "codemirror_mode": {
    "name": "ipython",
    "version": 3
   },
   "file_extension": ".py",
   "mimetype": "text/x-python",
   "name": "python",
   "nbconvert_exporter": "python",
   "pygments_lexer": "ipython3",
   "version": "3.10.0"
  },
  "orig_nbformat": 4,
  "vscode": {
   "interpreter": {
    "hash": "ff2b62eaed73d2e1e1d38a205c492d76c68c9037b0d5e07e24413ea35a526a2e"
   }
  }
 },
 "nbformat": 4,
 "nbformat_minor": 2
}
